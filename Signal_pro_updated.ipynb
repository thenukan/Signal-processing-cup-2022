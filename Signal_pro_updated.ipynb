{
 "cells": [
  {
   "cell_type": "code",
   "execution_count": 1,
   "id": "97374757",
   "metadata": {},
   "outputs": [],
   "source": [
    "import matplotlib.pyplot as plt"
   ]
  },
  {
   "cell_type": "code",
   "execution_count": 2,
   "id": "9cda7b18",
   "metadata": {},
   "outputs": [],
   "source": [
    "%matplotlib inline"
   ]
  },
  {
   "cell_type": "code",
   "execution_count": 3,
   "id": "b70440a6",
   "metadata": {},
   "outputs": [],
   "source": [
    "import IPython.display as ipd\n",
    "import librosa\n",
    "import librosa.display"
   ]
  },
  {
   "cell_type": "code",
   "execution_count": 6,
   "id": "6292f891",
   "metadata": {},
   "outputs": [
    {
     "data": {
      "text/html": [
       "<div>\n",
       "<style scoped>\n",
       "    .dataframe tbody tr th:only-of-type {\n",
       "        vertical-align: middle;\n",
       "    }\n",
       "\n",
       "    .dataframe tbody tr th {\n",
       "        vertical-align: top;\n",
       "    }\n",
       "\n",
       "    .dataframe thead th {\n",
       "        text-align: right;\n",
       "    }\n",
       "</style>\n",
       "<table border=\"1\" class=\"dataframe\">\n",
       "  <thead>\n",
       "    <tr style=\"text-align: right;\">\n",
       "      <th></th>\n",
       "      <th>track</th>\n",
       "      <th>algorithm</th>\n",
       "    </tr>\n",
       "  </thead>\n",
       "  <tbody>\n",
       "    <tr>\n",
       "      <th>0</th>\n",
       "      <td>00050dd7458cf08e594c797930696bce.wav</td>\n",
       "      <td>4</td>\n",
       "    </tr>\n",
       "    <tr>\n",
       "      <th>1</th>\n",
       "      <td>00070e7c531000d3dddc735d107275a9.wav</td>\n",
       "      <td>2</td>\n",
       "    </tr>\n",
       "    <tr>\n",
       "      <th>2</th>\n",
       "      <td>000f0711027a69b7f3886c2dbcb7d41f.wav</td>\n",
       "      <td>3</td>\n",
       "    </tr>\n",
       "    <tr>\n",
       "      <th>3</th>\n",
       "      <td>001e28e66dee24408aaf3480dfb95fbe.wav</td>\n",
       "      <td>1</td>\n",
       "    </tr>\n",
       "    <tr>\n",
       "      <th>4</th>\n",
       "      <td>001eee950f60613869544b72cd48fe97.wav</td>\n",
       "      <td>2</td>\n",
       "    </tr>\n",
       "    <tr>\n",
       "      <th>5</th>\n",
       "      <td>001f59a6ef884e2071ba1ee52cba8d09.wav</td>\n",
       "      <td>0</td>\n",
       "    </tr>\n",
       "    <tr>\n",
       "      <th>6</th>\n",
       "      <td>0022a32237a11ee475c7b96d82369596.wav</td>\n",
       "      <td>3</td>\n",
       "    </tr>\n",
       "    <tr>\n",
       "      <th>7</th>\n",
       "      <td>0022e7014db5482004d9e6f731cfbc8b.wav</td>\n",
       "      <td>4</td>\n",
       "    </tr>\n",
       "    <tr>\n",
       "      <th>8</th>\n",
       "      <td>00317a6d7effa97c0dc7e1cf1b6d542d.wav</td>\n",
       "      <td>3</td>\n",
       "    </tr>\n",
       "    <tr>\n",
       "      <th>9</th>\n",
       "      <td>0036636e89ad53945f0f2707c09f148e.wav</td>\n",
       "      <td>1</td>\n",
       "    </tr>\n",
       "  </tbody>\n",
       "</table>\n",
       "</div>"
      ],
      "text/plain": [
       "                                  track  algorithm\n",
       "0  00050dd7458cf08e594c797930696bce.wav          4\n",
       "1  00070e7c531000d3dddc735d107275a9.wav          2\n",
       "2  000f0711027a69b7f3886c2dbcb7d41f.wav          3\n",
       "3  001e28e66dee24408aaf3480dfb95fbe.wav          1\n",
       "4  001eee950f60613869544b72cd48fe97.wav          2\n",
       "5  001f59a6ef884e2071ba1ee52cba8d09.wav          0\n",
       "6  0022a32237a11ee475c7b96d82369596.wav          3\n",
       "7  0022e7014db5482004d9e6f731cfbc8b.wav          4\n",
       "8  00317a6d7effa97c0dc7e1cf1b6d542d.wav          3\n",
       "9  0036636e89ad53945f0f2707c09f148e.wav          1"
      ]
     },
     "execution_count": 6,
     "metadata": {},
     "output_type": "execute_result"
    }
   ],
   "source": [
    "import pandas as pd\n",
    "metadata=pd.read_csv(\"C:/Users/admin/Desktop/spcup_2022_training_part1/spcup_2022_training_part1/labels.csv\")\n",
    "metadata.head(10)"
   ]
  },
  {
   "cell_type": "code",
   "execution_count": 8,
   "id": "a8d13271",
   "metadata": {},
   "outputs": [
    {
     "data": {
      "text/html": [
       "<div>\n",
       "<style scoped>\n",
       "    .dataframe tbody tr th:only-of-type {\n",
       "        vertical-align: middle;\n",
       "    }\n",
       "\n",
       "    .dataframe tbody tr th {\n",
       "        vertical-align: top;\n",
       "    }\n",
       "\n",
       "    .dataframe thead th {\n",
       "        text-align: right;\n",
       "    }\n",
       "</style>\n",
       "<table border=\"1\" class=\"dataframe\">\n",
       "  <thead>\n",
       "    <tr style=\"text-align: right;\">\n",
       "      <th></th>\n",
       "      <th>track</th>\n",
       "      <th>algorithm</th>\n",
       "    </tr>\n",
       "  </thead>\n",
       "  <tbody>\n",
       "    <tr>\n",
       "      <th>0</th>\n",
       "      <td>7b0f8df28f98bdcd65e48d4799c1f98f.wav</td>\n",
       "      <td>5</td>\n",
       "    </tr>\n",
       "    <tr>\n",
       "      <th>1</th>\n",
       "      <td>211fbbdb342c2bbbac43fd4c908e239a.wav</td>\n",
       "      <td>5</td>\n",
       "    </tr>\n",
       "    <tr>\n",
       "      <th>2</th>\n",
       "      <td>807587f93df68fd50120fa1f3684b5ec.wav</td>\n",
       "      <td>5</td>\n",
       "    </tr>\n",
       "    <tr>\n",
       "      <th>3</th>\n",
       "      <td>78724d807be41abdd1a4d661d6535d1f.wav</td>\n",
       "      <td>5</td>\n",
       "    </tr>\n",
       "    <tr>\n",
       "      <th>4</th>\n",
       "      <td>86195fbf1d21aeeb9a956e56dd88f1b6.wav</td>\n",
       "      <td>5</td>\n",
       "    </tr>\n",
       "    <tr>\n",
       "      <th>5</th>\n",
       "      <td>8fa0377cc906aee9ed346cc1b5cb1d3d.wav</td>\n",
       "      <td>5</td>\n",
       "    </tr>\n",
       "    <tr>\n",
       "      <th>6</th>\n",
       "      <td>e699913cdd2a6773623b7027ecd32dfe.wav</td>\n",
       "      <td>5</td>\n",
       "    </tr>\n",
       "    <tr>\n",
       "      <th>7</th>\n",
       "      <td>a24bbf73e353f430dba5c5ff8d651b6a.wav</td>\n",
       "      <td>5</td>\n",
       "    </tr>\n",
       "    <tr>\n",
       "      <th>8</th>\n",
       "      <td>7e05e73230bb5936de69fb5eee9f6762.wav</td>\n",
       "      <td>5</td>\n",
       "    </tr>\n",
       "    <tr>\n",
       "      <th>9</th>\n",
       "      <td>5dee2a367819fd0f948b75da0c906ba4.wav</td>\n",
       "      <td>5</td>\n",
       "    </tr>\n",
       "  </tbody>\n",
       "</table>\n",
       "</div>"
      ],
      "text/plain": [
       "                                  track  algorithm\n",
       "0  7b0f8df28f98bdcd65e48d4799c1f98f.wav          5\n",
       "1  211fbbdb342c2bbbac43fd4c908e239a.wav          5\n",
       "2  807587f93df68fd50120fa1f3684b5ec.wav          5\n",
       "3  78724d807be41abdd1a4d661d6535d1f.wav          5\n",
       "4  86195fbf1d21aeeb9a956e56dd88f1b6.wav          5\n",
       "5  8fa0377cc906aee9ed346cc1b5cb1d3d.wav          5\n",
       "6  e699913cdd2a6773623b7027ecd32dfe.wav          5\n",
       "7  a24bbf73e353f430dba5c5ff8d651b6a.wav          5\n",
       "8  7e05e73230bb5936de69fb5eee9f6762.wav          5\n",
       "9  5dee2a367819fd0f948b75da0c906ba4.wav          5"
      ]
     },
     "execution_count": 8,
     "metadata": {},
     "output_type": "execute_result"
    }
   ],
   "source": [
    "metadata_un=pd.read_csv(\"C:/Users/admin/Desktop/spcup_2022_training_part1/spcup_2022_unseen/labels.csv\")\n",
    "metadata_un.head(10)\n"
   ]
  },
  {
   "cell_type": "code",
   "execution_count": 10,
   "id": "204f51a9",
   "metadata": {},
   "outputs": [],
   "source": [
    "def feature_extractor(file):\n",
    "    data,sample_rate=librosa.load(file,res_type='kaiser_fast')\n",
    "    mfccs=librosa.feature.mfcc(y=data,sr=sample_rate,n_mfcc=60)    \n",
    "    mfccs_scaled_features=np.mean(mfccs.T,axis=0)\n",
    "    return mfccs_scaled_features"
   ]
  },
  {
   "cell_type": "code",
   "execution_count": 11,
   "id": "ab7b43e4",
   "metadata": {},
   "outputs": [],
   "source": [
    "import os\n",
    "audio_dataset_path=\"C:/Users/admin/Desktop/spcup_2022_training_part1/spcup_2022_training_part1\"\n",
    "audio_dataset_path_un=\"C:/Users/admin/Desktop/spcup_2022_training_part1/spcup_2022_unseen\""
   ]
  },
  {
   "cell_type": "code",
   "execution_count": 12,
   "id": "d4a80468",
   "metadata": {},
   "outputs": [
    {
     "name": "stderr",
     "output_type": "stream",
     "text": [
      "5000it [08:33,  9.74it/s]\n"
     ]
    }
   ],
   "source": [
    "import numpy as np\n",
    "from tqdm import tqdm\n",
    "extracted_features=[]\n",
    "for index,row in tqdm(metadata.iterrows()):\n",
    "    file_name=os.path.join(os.path.abspath(audio_dataset_path),str(row[\"track\"]))\n",
    "    final_class_label=row[\"algorithm\"]\n",
    "    data=feature_extractor(file_name)\n",
    "    extracted_features.append([data,final_class_label])\n"
   ]
  },
  {
   "cell_type": "code",
   "execution_count": 14,
   "id": "e9238125",
   "metadata": {},
   "outputs": [
    {
     "name": "stderr",
     "output_type": "stream",
     "text": [
      "1000it [01:28, 11.29it/s]\n"
     ]
    }
   ],
   "source": [
    "for index,row in tqdm(metadata_un.iterrows()):\n",
    "    file_name=os.path.join(os.path.abspath(audio_dataset_path_un),str(row[\"track\"]))\n",
    "    final_class_label=row[\"algorithm\"]\n",
    "    data=feature_extractor(file_name)\n",
    "    extracted_features.append([data,final_class_label])"
   ]
  },
  {
   "cell_type": "code",
   "execution_count": 15,
   "id": "57b28bd6",
   "metadata": {},
   "outputs": [],
   "source": [
    "import random\n",
    "random.shuffle(extracted_features)"
   ]
  },
  {
   "cell_type": "code",
   "execution_count": 16,
   "id": "1fb31075",
   "metadata": {},
   "outputs": [
    {
     "data": {
      "text/html": [
       "<div>\n",
       "<style scoped>\n",
       "    .dataframe tbody tr th:only-of-type {\n",
       "        vertical-align: middle;\n",
       "    }\n",
       "\n",
       "    .dataframe tbody tr th {\n",
       "        vertical-align: top;\n",
       "    }\n",
       "\n",
       "    .dataframe thead th {\n",
       "        text-align: right;\n",
       "    }\n",
       "</style>\n",
       "<table border=\"1\" class=\"dataframe\">\n",
       "  <thead>\n",
       "    <tr style=\"text-align: right;\">\n",
       "      <th></th>\n",
       "      <th>track</th>\n",
       "      <th>algorithm</th>\n",
       "    </tr>\n",
       "  </thead>\n",
       "  <tbody>\n",
       "    <tr>\n",
       "      <th>0</th>\n",
       "      <td>[-243.90279, 117.09268, -21.011786, 33.6408, -...</td>\n",
       "      <td>3</td>\n",
       "    </tr>\n",
       "    <tr>\n",
       "      <th>1</th>\n",
       "      <td>[-244.82231, 113.38281, -18.689651, 50.29528, ...</td>\n",
       "      <td>3</td>\n",
       "    </tr>\n",
       "    <tr>\n",
       "      <th>2</th>\n",
       "      <td>[-262.0656, 111.25682, -25.563023, 42.683376, ...</td>\n",
       "      <td>5</td>\n",
       "    </tr>\n",
       "    <tr>\n",
       "      <th>3</th>\n",
       "      <td>[-280.80753, 129.30823, -30.738705, 23.066547,...</td>\n",
       "      <td>2</td>\n",
       "    </tr>\n",
       "    <tr>\n",
       "      <th>4</th>\n",
       "      <td>[-267.67685, 115.20894, -28.6813, 40.30148, -3...</td>\n",
       "      <td>2</td>\n",
       "    </tr>\n",
       "    <tr>\n",
       "      <th>...</th>\n",
       "      <td>...</td>\n",
       "      <td>...</td>\n",
       "    </tr>\n",
       "    <tr>\n",
       "      <th>5995</th>\n",
       "      <td>[-241.79272, 104.504364, -35.197643, 47.369072...</td>\n",
       "      <td>1</td>\n",
       "    </tr>\n",
       "    <tr>\n",
       "      <th>5996</th>\n",
       "      <td>[-246.9134, 110.62661, -34.39104, 37.08726, -3...</td>\n",
       "      <td>2</td>\n",
       "    </tr>\n",
       "    <tr>\n",
       "      <th>5997</th>\n",
       "      <td>[-264.63074, 113.37765, -32.592407, 36.436108,...</td>\n",
       "      <td>0</td>\n",
       "    </tr>\n",
       "    <tr>\n",
       "      <th>5998</th>\n",
       "      <td>[-251.85706, 106.08554, -30.47908, 49.70464, -...</td>\n",
       "      <td>1</td>\n",
       "    </tr>\n",
       "    <tr>\n",
       "      <th>5999</th>\n",
       "      <td>[-273.668, 96.27688, -24.558865, 56.159725, -1...</td>\n",
       "      <td>0</td>\n",
       "    </tr>\n",
       "  </tbody>\n",
       "</table>\n",
       "<p>6000 rows × 2 columns</p>\n",
       "</div>"
      ],
      "text/plain": [
       "                                                  track  algorithm\n",
       "0     [-243.90279, 117.09268, -21.011786, 33.6408, -...          3\n",
       "1     [-244.82231, 113.38281, -18.689651, 50.29528, ...          3\n",
       "2     [-262.0656, 111.25682, -25.563023, 42.683376, ...          5\n",
       "3     [-280.80753, 129.30823, -30.738705, 23.066547,...          2\n",
       "4     [-267.67685, 115.20894, -28.6813, 40.30148, -3...          2\n",
       "...                                                 ...        ...\n",
       "5995  [-241.79272, 104.504364, -35.197643, 47.369072...          1\n",
       "5996  [-246.9134, 110.62661, -34.39104, 37.08726, -3...          2\n",
       "5997  [-264.63074, 113.37765, -32.592407, 36.436108,...          0\n",
       "5998  [-251.85706, 106.08554, -30.47908, 49.70464, -...          1\n",
       "5999  [-273.668, 96.27688, -24.558865, 56.159725, -1...          0\n",
       "\n",
       "[6000 rows x 2 columns]"
      ]
     },
     "execution_count": 16,
     "metadata": {},
     "output_type": "execute_result"
    }
   ],
   "source": [
    "extracted_features_df=pd.DataFrame(extracted_features,columns=['track','algorithm'])\n",
    "extracted_features_df"
   ]
  },
  {
   "cell_type": "code",
   "execution_count": 17,
   "id": "ed28bec9",
   "metadata": {},
   "outputs": [],
   "source": [
    "x=np.array(extracted_features_df['track'].tolist())\n",
    "y=np.array(extracted_features_df['algorithm'].tolist())"
   ]
  },
  {
   "cell_type": "code",
   "execution_count": 18,
   "id": "86e67a21",
   "metadata": {},
   "outputs": [
    {
     "data": {
      "text/plain": [
       "(6000, 60)"
      ]
     },
     "execution_count": 18,
     "metadata": {},
     "output_type": "execute_result"
    }
   ],
   "source": [
    "x.shape"
   ]
  },
  {
   "cell_type": "code",
   "execution_count": 19,
   "id": "625094da",
   "metadata": {},
   "outputs": [
    {
     "data": {
      "text/plain": [
       "(6000,)"
      ]
     },
     "execution_count": 19,
     "metadata": {},
     "output_type": "execute_result"
    }
   ],
   "source": [
    "y.shape"
   ]
  },
  {
   "cell_type": "code",
   "execution_count": 20,
   "id": "a7593a4b",
   "metadata": {},
   "outputs": [],
   "source": [
    "y=np.array(pd.get_dummies(y))"
   ]
  },
  {
   "cell_type": "code",
   "execution_count": 21,
   "id": "c3df7a07",
   "metadata": {},
   "outputs": [
    {
     "data": {
      "text/plain": [
       "(6000, 6)"
      ]
     },
     "execution_count": 21,
     "metadata": {},
     "output_type": "execute_result"
    }
   ],
   "source": [
    "y.shape"
   ]
  },
  {
   "cell_type": "code",
   "execution_count": 22,
   "id": "13d01d13",
   "metadata": {},
   "outputs": [],
   "source": [
    "from sklearn.model_selection import train_test_split\n",
    "x_train,x_test,y_train,y_test=train_test_split(x,y,test_size=0.2,random_state=0)"
   ]
  },
  {
   "cell_type": "code",
   "execution_count": 23,
   "id": "00c1822f",
   "metadata": {},
   "outputs": [],
   "source": [
    "from tensorflow.keras.models import Sequential\n",
    "from tensorflow.keras.layers import Dense,Dropout,Activation,Flatten\n",
    "from tensorflow.keras.optimizers import Adam\n",
    "from sklearn import metrics"
   ]
  },
  {
   "cell_type": "code",
   "execution_count": 24,
   "id": "3798f3d7",
   "metadata": {},
   "outputs": [],
   "source": [
    "num_labels=y.shape[1]"
   ]
  },
  {
   "cell_type": "code",
   "execution_count": 28,
   "id": "fb406df1",
   "metadata": {},
   "outputs": [],
   "source": [
    "model=Sequential()\n",
    "###first layer\n",
    "model.add(Dense(100,input_shape=(60,)))\n",
    "model.add(Activation('relu'))\n",
    "model.add(Dropout(0.5))\n",
    "###second layer\n",
    "model.add(Dense(200))\n",
    "model.add(Activation('relu'))\n",
    "model.add(Dropout(0.5))\n",
    "###third layer\n",
    "model.add(Dense(100))\n",
    "model.add(Activation('relu'))\n",
    "model.add(Dropout(0.5))\n",
    "\n",
    "###final layer\n",
    "model.add(Dense(num_labels))\n",
    "model.add(Activation('softmax'))"
   ]
  },
  {
   "cell_type": "code",
   "execution_count": 29,
   "id": "ba53148b",
   "metadata": {},
   "outputs": [],
   "source": [
    "model.compile(loss='categorical_crossentropy',metrics=['accuracy'],optimizer='adam')"
   ]
  },
  {
   "cell_type": "code",
   "execution_count": 39,
   "id": "46cbf74f",
   "metadata": {},
   "outputs": [
    {
     "name": "stdout",
     "output_type": "stream",
     "text": [
      "Epoch 1/100\n",
      "139/150 [==========================>...] - ETA: 0s - loss: 0.1344 - accuracy: 0.9496\n",
      "Epoch 1: val_loss improved from inf to 0.10743, saving model to saved_models\\audio_classification_updated.hdf5\n",
      "150/150 [==============================] - 0s 3ms/step - loss: 0.1386 - accuracy: 0.9483 - val_loss: 0.1074 - val_accuracy: 0.9558\n",
      "Epoch 2/100\n",
      "126/150 [========================>.....] - ETA: 0s - loss: 0.1370 - accuracy: 0.9516\n",
      "Epoch 2: val_loss did not improve from 0.10743\n",
      "150/150 [==============================] - 0s 2ms/step - loss: 0.1334 - accuracy: 0.9531 - val_loss: 0.1161 - val_accuracy: 0.9550\n",
      "Epoch 3/100\n",
      "148/150 [============================>.] - ETA: 0s - loss: 0.1255 - accuracy: 0.9531\n",
      "Epoch 3: val_loss did not improve from 0.10743\n",
      "150/150 [==============================] - 0s 3ms/step - loss: 0.1244 - accuracy: 0.9535 - val_loss: 0.1085 - val_accuracy: 0.9633\n",
      "Epoch 4/100\n",
      "132/150 [=========================>....] - ETA: 0s - loss: 0.1070 - accuracy: 0.9614\n",
      "Epoch 4: val_loss did not improve from 0.10743\n",
      "150/150 [==============================] - 0s 2ms/step - loss: 0.1160 - accuracy: 0.9585 - val_loss: 0.1216 - val_accuracy: 0.9567\n",
      "Epoch 5/100\n",
      "129/150 [========================>.....] - ETA: 0s - loss: 0.1295 - accuracy: 0.9549\n",
      "Epoch 5: val_loss improved from 0.10743 to 0.10418, saving model to saved_models\\audio_classification_updated.hdf5\n",
      "150/150 [==============================] - 0s 3ms/step - loss: 0.1287 - accuracy: 0.9554 - val_loss: 0.1042 - val_accuracy: 0.9575\n",
      "Epoch 6/100\n",
      "126/150 [========================>.....] - ETA: 0s - loss: 0.1297 - accuracy: 0.9521\n",
      "Epoch 6: val_loss did not improve from 0.10418\n",
      "150/150 [==============================] - 0s 2ms/step - loss: 0.1311 - accuracy: 0.9523 - val_loss: 0.1092 - val_accuracy: 0.9567\n",
      "Epoch 7/100\n",
      "147/150 [============================>.] - ETA: 0s - loss: 0.1324 - accuracy: 0.9507\n",
      "Epoch 7: val_loss did not improve from 0.10418\n",
      "150/150 [==============================] - 0s 3ms/step - loss: 0.1319 - accuracy: 0.9508 - val_loss: 0.1045 - val_accuracy: 0.9633\n",
      "Epoch 8/100\n",
      "142/150 [===========================>..] - ETA: 0s - loss: 0.1101 - accuracy: 0.9595\n",
      "Epoch 8: val_loss did not improve from 0.10418\n",
      "150/150 [==============================] - 0s 3ms/step - loss: 0.1091 - accuracy: 0.9596 - val_loss: 0.1066 - val_accuracy: 0.9617\n",
      "Epoch 9/100\n",
      "146/150 [============================>.] - ETA: 0s - loss: 0.1297 - accuracy: 0.9501\n",
      "Epoch 9: val_loss did not improve from 0.10418\n",
      "150/150 [==============================] - 0s 3ms/step - loss: 0.1290 - accuracy: 0.9506 - val_loss: 0.1125 - val_accuracy: 0.9575\n",
      "Epoch 10/100\n",
      "126/150 [========================>.....] - ETA: 0s - loss: 0.1221 - accuracy: 0.9559\n",
      "Epoch 10: val_loss did not improve from 0.10418\n",
      "150/150 [==============================] - 0s 2ms/step - loss: 0.1209 - accuracy: 0.9569 - val_loss: 0.1104 - val_accuracy: 0.9608\n",
      "Epoch 11/100\n",
      "148/150 [============================>.] - ETA: 0s - loss: 0.1181 - accuracy: 0.9542\n",
      "Epoch 11: val_loss did not improve from 0.10418\n",
      "150/150 [==============================] - 0s 3ms/step - loss: 0.1180 - accuracy: 0.9544 - val_loss: 0.1172 - val_accuracy: 0.9525\n",
      "Epoch 12/100\n",
      "148/150 [============================>.] - ETA: 0s - loss: 0.1250 - accuracy: 0.9531\n",
      "Epoch 12: val_loss did not improve from 0.10418\n",
      "150/150 [==============================] - 0s 3ms/step - loss: 0.1245 - accuracy: 0.9533 - val_loss: 0.1070 - val_accuracy: 0.9617\n",
      "Epoch 13/100\n",
      "145/150 [============================>.] - ETA: 0s - loss: 0.1368 - accuracy: 0.9498\n",
      "Epoch 13: val_loss did not improve from 0.10418\n",
      "150/150 [==============================] - 0s 3ms/step - loss: 0.1356 - accuracy: 0.9504 - val_loss: 0.1054 - val_accuracy: 0.9567\n",
      "Epoch 14/100\n",
      "139/150 [==========================>...] - ETA: 0s - loss: 0.1266 - accuracy: 0.9573\n",
      "Epoch 14: val_loss did not improve from 0.10418\n",
      "150/150 [==============================] - 0s 3ms/step - loss: 0.1237 - accuracy: 0.9579 - val_loss: 0.1081 - val_accuracy: 0.9575\n",
      "Epoch 15/100\n",
      "124/150 [=======================>......] - ETA: 0s - loss: 0.1165 - accuracy: 0.9579\n",
      "Epoch 15: val_loss did not improve from 0.10418\n",
      "150/150 [==============================] - 0s 2ms/step - loss: 0.1199 - accuracy: 0.9554 - val_loss: 0.1080 - val_accuracy: 0.9583\n",
      "Epoch 16/100\n",
      "148/150 [============================>.] - ETA: 0s - loss: 0.1173 - accuracy: 0.9584\n",
      "Epoch 16: val_loss did not improve from 0.10418\n",
      "150/150 [==============================] - 0s 3ms/step - loss: 0.1169 - accuracy: 0.9585 - val_loss: 0.1128 - val_accuracy: 0.9558\n",
      "Epoch 17/100\n",
      "144/150 [===========================>..] - ETA: 0s - loss: 0.1124 - accuracy: 0.9570\n",
      "Epoch 17: val_loss improved from 0.10418 to 0.10179, saving model to saved_models\\audio_classification_updated.hdf5\n",
      "150/150 [==============================] - 0s 3ms/step - loss: 0.1131 - accuracy: 0.9571 - val_loss: 0.1018 - val_accuracy: 0.9608\n",
      "Epoch 18/100\n",
      "146/150 [============================>.] - ETA: 0s - loss: 0.1114 - accuracy: 0.9589\n",
      "Epoch 18: val_loss did not improve from 0.10179\n",
      "150/150 [==============================] - 0s 3ms/step - loss: 0.1122 - accuracy: 0.9583 - val_loss: 0.1110 - val_accuracy: 0.9567\n",
      "Epoch 19/100\n",
      "145/150 [============================>.] - ETA: 0s - loss: 0.1206 - accuracy: 0.9569\n",
      "Epoch 19: val_loss did not improve from 0.10179\n",
      "150/150 [==============================] - 0s 3ms/step - loss: 0.1182 - accuracy: 0.9581 - val_loss: 0.1336 - val_accuracy: 0.9558\n",
      "Epoch 20/100\n",
      "145/150 [============================>.] - ETA: 0s - loss: 0.1455 - accuracy: 0.9491\n",
      "Epoch 20: val_loss did not improve from 0.10179\n",
      "150/150 [==============================] - 0s 3ms/step - loss: 0.1447 - accuracy: 0.9488 - val_loss: 0.1322 - val_accuracy: 0.9575\n",
      "Epoch 21/100\n",
      "146/150 [============================>.] - ETA: 0s - loss: 0.1138 - accuracy: 0.9538\n",
      "Epoch 21: val_loss did not improve from 0.10179\n",
      "150/150 [==============================] - 0s 3ms/step - loss: 0.1152 - accuracy: 0.9542 - val_loss: 0.1125 - val_accuracy: 0.9625\n",
      "Epoch 22/100\n",
      "143/150 [===========================>..] - ETA: 0s - loss: 0.1204 - accuracy: 0.9580\n",
      "Epoch 22: val_loss did not improve from 0.10179\n",
      "150/150 [==============================] - 0s 3ms/step - loss: 0.1207 - accuracy: 0.9581 - val_loss: 0.1180 - val_accuracy: 0.9542\n",
      "Epoch 23/100\n",
      "147/150 [============================>.] - ETA: 0s - loss: 0.1157 - accuracy: 0.9577\n",
      "Epoch 23: val_loss did not improve from 0.10179\n",
      "150/150 [==============================] - 0s 3ms/step - loss: 0.1149 - accuracy: 0.9579 - val_loss: 0.1024 - val_accuracy: 0.9600\n",
      "Epoch 24/100\n",
      "145/150 [============================>.] - ETA: 0s - loss: 0.1110 - accuracy: 0.9595\n",
      "Epoch 24: val_loss did not improve from 0.10179\n",
      "150/150 [==============================] - 0s 3ms/step - loss: 0.1106 - accuracy: 0.9598 - val_loss: 0.1076 - val_accuracy: 0.9642\n",
      "Epoch 25/100\n",
      "144/150 [===========================>..] - ETA: 0s - loss: 0.1223 - accuracy: 0.9520\n",
      "Epoch 25: val_loss did not improve from 0.10179\n",
      "150/150 [==============================] - 0s 3ms/step - loss: 0.1213 - accuracy: 0.9525 - val_loss: 0.1227 - val_accuracy: 0.9567\n",
      "Epoch 26/100\n",
      "148/150 [============================>.] - ETA: 0s - loss: 0.1210 - accuracy: 0.9561\n",
      "Epoch 26: val_loss did not improve from 0.10179\n",
      "150/150 [==============================] - 0s 3ms/step - loss: 0.1220 - accuracy: 0.9560 - val_loss: 0.1151 - val_accuracy: 0.9583\n",
      "Epoch 27/100\n",
      "149/150 [============================>.] - ETA: 0s - loss: 0.1262 - accuracy: 0.9541\n",
      "Epoch 27: val_loss did not improve from 0.10179\n",
      "150/150 [==============================] - 0s 2ms/step - loss: 0.1263 - accuracy: 0.9538 - val_loss: 0.1091 - val_accuracy: 0.9583\n",
      "Epoch 28/100\n",
      "150/150 [==============================] - ETA: 0s - loss: 0.1121 - accuracy: 0.9602\n",
      "Epoch 28: val_loss improved from 0.10179 to 0.10150, saving model to saved_models\\audio_classification_updated.hdf5\n",
      "150/150 [==============================] - 0s 3ms/step - loss: 0.1121 - accuracy: 0.9602 - val_loss: 0.1015 - val_accuracy: 0.9600\n",
      "Epoch 29/100\n",
      "131/150 [=========================>....] - ETA: 0s - loss: 0.1060 - accuracy: 0.9661\n",
      "Epoch 29: val_loss did not improve from 0.10150\n",
      "150/150 [==============================] - 0s 3ms/step - loss: 0.1077 - accuracy: 0.9652 - val_loss: 0.1158 - val_accuracy: 0.9600\n",
      "Epoch 30/100\n",
      "149/150 [============================>.] - ETA: 0s - loss: 0.1218 - accuracy: 0.9572\n",
      "Epoch 30: val_loss did not improve from 0.10150\n",
      "150/150 [==============================] - 0s 3ms/step - loss: 0.1213 - accuracy: 0.9575 - val_loss: 0.1060 - val_accuracy: 0.9592\n",
      "Epoch 31/100\n",
      "130/150 [=========================>....] - ETA: 0s - loss: 0.1018 - accuracy: 0.9632\n",
      "Epoch 31: val_loss did not improve from 0.10150\n",
      "150/150 [==============================] - 0s 3ms/step - loss: 0.1048 - accuracy: 0.9610 - val_loss: 0.1163 - val_accuracy: 0.9558\n",
      "Epoch 32/100\n",
      "140/150 [===========================>..] - ETA: 0s - loss: 0.1093 - accuracy: 0.9614\n",
      "Epoch 32: val_loss improved from 0.10150 to 0.09798, saving model to saved_models\\audio_classification_updated.hdf5\n",
      "150/150 [==============================] - 0s 3ms/step - loss: 0.1105 - accuracy: 0.9608 - val_loss: 0.0980 - val_accuracy: 0.9600\n",
      "Epoch 33/100\n",
      "129/150 [========================>.....] - ETA: 0s - loss: 0.1282 - accuracy: 0.9516\n",
      "Epoch 33: val_loss improved from 0.09798 to 0.09573, saving model to saved_models\\audio_classification_updated.hdf5\n",
      "150/150 [==============================] - 0s 3ms/step - loss: 0.1218 - accuracy: 0.9540 - val_loss: 0.0957 - val_accuracy: 0.9617\n",
      "Epoch 34/100\n",
      "128/150 [========================>.....] - ETA: 0s - loss: 0.1279 - accuracy: 0.9500\n",
      "Epoch 34: val_loss did not improve from 0.09573\n",
      "150/150 [==============================] - 0s 2ms/step - loss: 0.1264 - accuracy: 0.9500 - val_loss: 0.1019 - val_accuracy: 0.9575\n",
      "Epoch 35/100\n",
      "129/150 [========================>.....] - ETA: 0s - loss: 0.1635 - accuracy: 0.9419\n",
      "Epoch 35: val_loss did not improve from 0.09573\n",
      "150/150 [==============================] - 0s 2ms/step - loss: 0.1646 - accuracy: 0.9427 - val_loss: 0.1004 - val_accuracy: 0.9608\n",
      "Epoch 36/100\n",
      "128/150 [========================>.....] - ETA: 0s - loss: 0.1543 - accuracy: 0.9453\n",
      "Epoch 36: val_loss did not improve from 0.09573\n",
      "150/150 [==============================] - 0s 2ms/step - loss: 0.1491 - accuracy: 0.9463 - val_loss: 0.0971 - val_accuracy: 0.9558\n",
      "Epoch 37/100\n",
      "128/150 [========================>.....] - ETA: 0s - loss: 0.1447 - accuracy: 0.9519\n",
      "Epoch 37: val_loss did not improve from 0.09573\n",
      "150/150 [==============================] - 0s 2ms/step - loss: 0.1444 - accuracy: 0.9515 - val_loss: 0.0996 - val_accuracy: 0.9608\n",
      "Epoch 38/100\n",
      "134/150 [=========================>....] - ETA: 0s - loss: 0.1178 - accuracy: 0.9583\n",
      "Epoch 38: val_loss did not improve from 0.09573\n",
      "150/150 [==============================] - 0s 2ms/step - loss: 0.1202 - accuracy: 0.9569 - val_loss: 0.1079 - val_accuracy: 0.9600\n",
      "Epoch 39/100\n",
      "129/150 [========================>.....] - ETA: 0s - loss: 0.1363 - accuracy: 0.9535\n",
      "Epoch 39: val_loss did not improve from 0.09573\n",
      "150/150 [==============================] - 0s 2ms/step - loss: 0.1333 - accuracy: 0.9540 - val_loss: 0.0962 - val_accuracy: 0.9608\n",
      "Epoch 40/100\n",
      "144/150 [===========================>..] - ETA: 0s - loss: 0.1131 - accuracy: 0.9577\n",
      "Epoch 40: val_loss did not improve from 0.09573\n",
      "150/150 [==============================] - 0s 3ms/step - loss: 0.1129 - accuracy: 0.9579 - val_loss: 0.0983 - val_accuracy: 0.9650\n",
      "Epoch 41/100\n",
      "150/150 [==============================] - ETA: 0s - loss: 0.1178 - accuracy: 0.9569\n",
      "Epoch 41: val_loss did not improve from 0.09573\n",
      "150/150 [==============================] - 0s 3ms/step - loss: 0.1178 - accuracy: 0.9569 - val_loss: 0.1013 - val_accuracy: 0.9583\n",
      "Epoch 42/100\n",
      "147/150 [============================>.] - ETA: 0s - loss: 0.1217 - accuracy: 0.9532\n",
      "Epoch 42: val_loss did not improve from 0.09573\n",
      "150/150 [==============================] - 0s 3ms/step - loss: 0.1206 - accuracy: 0.9535 - val_loss: 0.1102 - val_accuracy: 0.9575\n",
      "Epoch 43/100\n",
      "142/150 [===========================>..] - ETA: 0s - loss: 0.1150 - accuracy: 0.9569\n",
      "Epoch 43: val_loss did not improve from 0.09573\n",
      "150/150 [==============================] - 0s 3ms/step - loss: 0.1176 - accuracy: 0.9563 - val_loss: 0.1049 - val_accuracy: 0.9583\n",
      "Epoch 44/100\n",
      "143/150 [===========================>..] - ETA: 0s - loss: 0.1085 - accuracy: 0.9607\n",
      "Epoch 44: val_loss did not improve from 0.09573\n",
      "150/150 [==============================] - 0s 3ms/step - loss: 0.1119 - accuracy: 0.9600 - val_loss: 0.1036 - val_accuracy: 0.9542\n",
      "Epoch 45/100\n",
      "148/150 [============================>.] - ETA: 0s - loss: 0.1253 - accuracy: 0.9554\n",
      "Epoch 45: val_loss did not improve from 0.09573\n",
      "150/150 [==============================] - 0s 3ms/step - loss: 0.1245 - accuracy: 0.9558 - val_loss: 0.1020 - val_accuracy: 0.9608\n",
      "Epoch 46/100\n",
      "127/150 [========================>.....] - ETA: 0s - loss: 0.1315 - accuracy: 0.9513\n",
      "Epoch 46: val_loss did not improve from 0.09573\n",
      "150/150 [==============================] - 0s 2ms/step - loss: 0.1291 - accuracy: 0.9510 - val_loss: 0.0975 - val_accuracy: 0.9608\n",
      "Epoch 47/100\n",
      "141/150 [===========================>..] - ETA: 0s - loss: 0.1266 - accuracy: 0.9559\n",
      "Epoch 47: val_loss did not improve from 0.09573\n",
      "150/150 [==============================] - 0s 3ms/step - loss: 0.1242 - accuracy: 0.9573 - val_loss: 0.1057 - val_accuracy: 0.9558\n",
      "Epoch 48/100\n",
      "127/150 [========================>.....] - ETA: 0s - loss: 0.1345 - accuracy: 0.9535\n",
      "Epoch 48: val_loss improved from 0.09573 to 0.09354, saving model to saved_models\\audio_classification_updated.hdf5\n",
      "150/150 [==============================] - 0s 3ms/step - loss: 0.1340 - accuracy: 0.9538 - val_loss: 0.0935 - val_accuracy: 0.9625\n",
      "Epoch 49/100\n",
      "128/150 [========================>.....] - ETA: 0s - loss: 0.1222 - accuracy: 0.9541\n",
      "Epoch 49: val_loss did not improve from 0.09354\n",
      "150/150 [==============================] - 0s 3ms/step - loss: 0.1273 - accuracy: 0.9538 - val_loss: 0.1214 - val_accuracy: 0.9583\n",
      "Epoch 50/100\n",
      "127/150 [========================>.....] - ETA: 0s - loss: 0.1170 - accuracy: 0.9596\n",
      "Epoch 50: val_loss did not improve from 0.09354\n",
      "150/150 [==============================] - 0s 2ms/step - loss: 0.1222 - accuracy: 0.9577 - val_loss: 0.1069 - val_accuracy: 0.9592\n",
      "Epoch 51/100\n",
      "146/150 [============================>.] - ETA: 0s - loss: 0.1216 - accuracy: 0.9542\n",
      "Epoch 51: val_loss did not improve from 0.09354\n",
      "150/150 [==============================] - 0s 3ms/step - loss: 0.1202 - accuracy: 0.9546 - val_loss: 0.1158 - val_accuracy: 0.9583\n",
      "Epoch 52/100\n",
      "144/150 [===========================>..] - ETA: 0s - loss: 0.1243 - accuracy: 0.9583\n",
      "Epoch 52: val_loss did not improve from 0.09354\n",
      "150/150 [==============================] - 0s 3ms/step - loss: 0.1246 - accuracy: 0.9579 - val_loss: 0.1199 - val_accuracy: 0.9592\n",
      "Epoch 53/100\n",
      "144/150 [===========================>..] - ETA: 0s - loss: 0.1214 - accuracy: 0.9590\n",
      "Epoch 53: val_loss did not improve from 0.09354\n",
      "150/150 [==============================] - 0s 3ms/step - loss: 0.1212 - accuracy: 0.9590 - val_loss: 0.1115 - val_accuracy: 0.9583\n",
      "Epoch 54/100\n",
      "140/150 [===========================>..] - ETA: 0s - loss: 0.1635 - accuracy: 0.9478\n",
      "Epoch 54: val_loss did not improve from 0.09354\n",
      "150/150 [==============================] - 0s 3ms/step - loss: 0.1600 - accuracy: 0.9479 - val_loss: 0.1003 - val_accuracy: 0.9600\n",
      "Epoch 55/100\n",
      "126/150 [========================>.....] - ETA: 0s - loss: 0.1177 - accuracy: 0.9586\n",
      "Epoch 55: val_loss did not improve from 0.09354\n",
      "150/150 [==============================] - 0s 2ms/step - loss: 0.1164 - accuracy: 0.9588 - val_loss: 0.0975 - val_accuracy: 0.9583\n",
      "Epoch 56/100\n",
      "148/150 [============================>.] - ETA: 0s - loss: 0.1164 - accuracy: 0.9582\n",
      "Epoch 56: val_loss improved from 0.09354 to 0.09341, saving model to saved_models\\audio_classification_updated.hdf5\n",
      "150/150 [==============================] - 0s 3ms/step - loss: 0.1207 - accuracy: 0.9577 - val_loss: 0.0934 - val_accuracy: 0.9592\n",
      "Epoch 57/100\n",
      "148/150 [============================>.] - ETA: 0s - loss: 0.1410 - accuracy: 0.9548\n",
      "Epoch 57: val_loss did not improve from 0.09341\n",
      "150/150 [==============================] - 0s 3ms/step - loss: 0.1403 - accuracy: 0.9552 - val_loss: 0.1183 - val_accuracy: 0.9575\n",
      "Epoch 58/100\n",
      "149/150 [============================>.] - ETA: 0s - loss: 0.1255 - accuracy: 0.9564\n",
      "Epoch 58: val_loss did not improve from 0.09341\n",
      "150/150 [==============================] - 0s 3ms/step - loss: 0.1259 - accuracy: 0.9558 - val_loss: 0.0985 - val_accuracy: 0.9633\n",
      "Epoch 59/100\n",
      "148/150 [============================>.] - ETA: 0s - loss: 0.1288 - accuracy: 0.9531\n",
      "Epoch 59: val_loss did not improve from 0.09341\n",
      "150/150 [==============================] - 0s 3ms/step - loss: 0.1282 - accuracy: 0.9533 - val_loss: 0.1107 - val_accuracy: 0.9558\n",
      "Epoch 60/100\n",
      "126/150 [========================>.....] - ETA: 0s - loss: 0.1144 - accuracy: 0.9563\n",
      "Epoch 60: val_loss did not improve from 0.09341\n",
      "150/150 [==============================] - 0s 2ms/step - loss: 0.1161 - accuracy: 0.9567 - val_loss: 0.0995 - val_accuracy: 0.9575\n",
      "Epoch 61/100\n",
      "138/150 [==========================>...] - ETA: 0s - loss: 0.1119 - accuracy: 0.9572\n",
      "Epoch 61: val_loss did not improve from 0.09341\n",
      "150/150 [==============================] - 0s 2ms/step - loss: 0.1126 - accuracy: 0.9573 - val_loss: 0.1061 - val_accuracy: 0.9550\n",
      "Epoch 62/100\n",
      "130/150 [=========================>....] - ETA: 0s - loss: 0.1346 - accuracy: 0.9526\n",
      "Epoch 62: val_loss did not improve from 0.09341\n",
      "150/150 [==============================] - 0s 2ms/step - loss: 0.1392 - accuracy: 0.9527 - val_loss: 0.1025 - val_accuracy: 0.9592\n",
      "Epoch 63/100\n",
      "149/150 [============================>.] - ETA: 0s - loss: 0.1580 - accuracy: 0.9513\n",
      "Epoch 63: val_loss did not improve from 0.09341\n",
      "150/150 [==============================] - 0s 3ms/step - loss: 0.1576 - accuracy: 0.9515 - val_loss: 0.1423 - val_accuracy: 0.9583\n",
      "Epoch 64/100\n",
      "149/150 [============================>.] - ETA: 0s - loss: 0.1337 - accuracy: 0.9530\n",
      "Epoch 64: val_loss did not improve from 0.09341\n",
      "150/150 [==============================] - 0s 3ms/step - loss: 0.1335 - accuracy: 0.9531 - val_loss: 0.1146 - val_accuracy: 0.9583\n",
      "Epoch 65/100\n",
      "126/150 [========================>.....] - ETA: 0s - loss: 0.1210 - accuracy: 0.9613\n",
      "Epoch 65: val_loss did not improve from 0.09341\n",
      "150/150 [==============================] - 0s 2ms/step - loss: 0.1199 - accuracy: 0.9613 - val_loss: 0.1054 - val_accuracy: 0.9567\n",
      "Epoch 66/100\n",
      "125/150 [========================>.....] - ETA: 0s - loss: 0.1375 - accuracy: 0.9535\n",
      "Epoch 66: val_loss did not improve from 0.09341\n",
      "150/150 [==============================] - 0s 3ms/step - loss: 0.1303 - accuracy: 0.9567 - val_loss: 0.1027 - val_accuracy: 0.9608\n",
      "Epoch 67/100\n",
      "150/150 [==============================] - ETA: 0s - loss: 0.1104 - accuracy: 0.9596\n",
      "Epoch 67: val_loss did not improve from 0.09341\n",
      "150/150 [==============================] - 0s 3ms/step - loss: 0.1104 - accuracy: 0.9596 - val_loss: 0.0990 - val_accuracy: 0.9575\n",
      "Epoch 68/100\n",
      "127/150 [========================>.....] - ETA: 0s - loss: 0.1312 - accuracy: 0.9520\n",
      "Epoch 68: val_loss did not improve from 0.09341\n",
      "150/150 [==============================] - 0s 2ms/step - loss: 0.1318 - accuracy: 0.9519 - val_loss: 0.0999 - val_accuracy: 0.9608\n",
      "Epoch 69/100\n",
      "143/150 [===========================>..] - ETA: 0s - loss: 0.1156 - accuracy: 0.9569\n",
      "Epoch 69: val_loss did not improve from 0.09341\n",
      "150/150 [==============================] - 0s 3ms/step - loss: 0.1141 - accuracy: 0.9575 - val_loss: 0.1037 - val_accuracy: 0.9575\n",
      "Epoch 70/100\n",
      "150/150 [==============================] - ETA: 0s - loss: 0.1098 - accuracy: 0.9619\n",
      "Epoch 70: val_loss did not improve from 0.09341\n",
      "150/150 [==============================] - 0s 3ms/step - loss: 0.1098 - accuracy: 0.9619 - val_loss: 0.0966 - val_accuracy: 0.9592\n",
      "Epoch 71/100\n",
      "134/150 [=========================>....] - ETA: 0s - loss: 0.1164 - accuracy: 0.9569\n",
      "Epoch 71: val_loss did not improve from 0.09341\n",
      "150/150 [==============================] - 0s 3ms/step - loss: 0.1172 - accuracy: 0.9565 - val_loss: 0.1004 - val_accuracy: 0.9558\n",
      "Epoch 72/100\n",
      "125/150 [========================>.....] - ETA: 0s - loss: 0.1134 - accuracy: 0.9620\n",
      "Epoch 72: val_loss did not improve from 0.09341\n",
      "150/150 [==============================] - 0s 3ms/step - loss: 0.1110 - accuracy: 0.9619 - val_loss: 0.0970 - val_accuracy: 0.9583\n",
      "Epoch 73/100\n",
      "132/150 [=========================>....] - ETA: 0s - loss: 0.1242 - accuracy: 0.9529\n",
      "Epoch 73: val_loss did not improve from 0.09341\n",
      "150/150 [==============================] - 0s 3ms/step - loss: 0.1223 - accuracy: 0.9538 - val_loss: 0.1083 - val_accuracy: 0.9550\n",
      "Epoch 74/100\n",
      "128/150 [========================>.....] - ETA: 0s - loss: 0.1073 - accuracy: 0.9585\n",
      "Epoch 74: val_loss did not improve from 0.09341\n",
      "150/150 [==============================] - 0s 3ms/step - loss: 0.1094 - accuracy: 0.9585 - val_loss: 0.1016 - val_accuracy: 0.9617\n",
      "Epoch 75/100\n",
      "126/150 [========================>.....] - ETA: 0s - loss: 0.1169 - accuracy: 0.9581\n",
      "Epoch 75: val_loss did not improve from 0.09341\n",
      "150/150 [==============================] - 0s 3ms/step - loss: 0.1159 - accuracy: 0.9567 - val_loss: 0.1022 - val_accuracy: 0.9617\n",
      "Epoch 76/100\n",
      "144/150 [===========================>..] - ETA: 0s - loss: 0.1189 - accuracy: 0.9579\n",
      "Epoch 76: val_loss did not improve from 0.09341\n",
      "150/150 [==============================] - 0s 3ms/step - loss: 0.1180 - accuracy: 0.9583 - val_loss: 0.0947 - val_accuracy: 0.9583\n",
      "Epoch 77/100\n",
      "141/150 [===========================>..] - ETA: 0s - loss: 0.1079 - accuracy: 0.9619\n",
      "Epoch 77: val_loss did not improve from 0.09341\n",
      "150/150 [==============================] - 0s 3ms/step - loss: 0.1097 - accuracy: 0.9613 - val_loss: 0.1002 - val_accuracy: 0.9592\n",
      "Epoch 78/100\n",
      "134/150 [=========================>....] - ETA: 0s - loss: 0.1109 - accuracy: 0.9615\n",
      "Epoch 78: val_loss did not improve from 0.09341\n",
      "150/150 [==============================] - 0s 3ms/step - loss: 0.1075 - accuracy: 0.9619 - val_loss: 0.0972 - val_accuracy: 0.9600\n",
      "Epoch 79/100\n",
      "145/150 [============================>.] - ETA: 0s - loss: 0.1193 - accuracy: 0.9569\n",
      "Epoch 79: val_loss did not improve from 0.09341\n",
      "150/150 [==============================] - 0s 3ms/step - loss: 0.1181 - accuracy: 0.9573 - val_loss: 0.1134 - val_accuracy: 0.9592\n",
      "Epoch 80/100\n",
      "147/150 [============================>.] - ETA: 0s - loss: 0.1407 - accuracy: 0.9477\n",
      "Epoch 80: val_loss did not improve from 0.09341\n",
      "150/150 [==============================] - 0s 3ms/step - loss: 0.1414 - accuracy: 0.9477 - val_loss: 0.1199 - val_accuracy: 0.9575\n",
      "Epoch 81/100\n",
      "126/150 [========================>.....] - ETA: 0s - loss: 0.1339 - accuracy: 0.9526\n",
      "Epoch 81: val_loss did not improve from 0.09341\n",
      "150/150 [==============================] - 0s 3ms/step - loss: 0.1327 - accuracy: 0.9517 - val_loss: 0.1138 - val_accuracy: 0.9525\n",
      "Epoch 82/100\n",
      "150/150 [==============================] - ETA: 0s - loss: 0.1305 - accuracy: 0.9552\n",
      "Epoch 82: val_loss did not improve from 0.09341\n",
      "150/150 [==============================] - 0s 3ms/step - loss: 0.1305 - accuracy: 0.9552 - val_loss: 0.1255 - val_accuracy: 0.9542\n",
      "Epoch 83/100\n",
      "149/150 [============================>.] - ETA: 0s - loss: 0.1360 - accuracy: 0.9501\n",
      "Epoch 83: val_loss did not improve from 0.09341\n",
      "150/150 [==============================] - 0s 2ms/step - loss: 0.1356 - accuracy: 0.9502 - val_loss: 0.1267 - val_accuracy: 0.9558\n",
      "Epoch 84/100\n",
      "125/150 [========================>.....] - ETA: 0s - loss: 0.1258 - accuracy: 0.9557\n",
      "Epoch 84: val_loss did not improve from 0.09341\n",
      "150/150 [==============================] - 0s 2ms/step - loss: 0.1311 - accuracy: 0.9563 - val_loss: 0.1017 - val_accuracy: 0.9617\n",
      "Epoch 85/100\n",
      "130/150 [=========================>....] - ETA: 0s - loss: 0.1123 - accuracy: 0.9567\n",
      "Epoch 85: val_loss did not improve from 0.09341\n",
      "150/150 [==============================] - 0s 2ms/step - loss: 0.1129 - accuracy: 0.9563 - val_loss: 0.1043 - val_accuracy: 0.9617\n",
      "Epoch 86/100\n",
      "132/150 [=========================>....] - ETA: 0s - loss: 0.1092 - accuracy: 0.9515\n",
      "Epoch 86: val_loss did not improve from 0.09341\n",
      "150/150 [==============================] - 0s 2ms/step - loss: 0.1129 - accuracy: 0.9519 - val_loss: 0.1029 - val_accuracy: 0.9617\n",
      "Epoch 87/100\n",
      "148/150 [============================>.] - ETA: 0s - loss: 0.1196 - accuracy: 0.9489\n",
      "Epoch 87: val_loss did not improve from 0.09341\n",
      "150/150 [==============================] - 0s 3ms/step - loss: 0.1193 - accuracy: 0.9490 - val_loss: 0.1047 - val_accuracy: 0.9592\n",
      "Epoch 88/100\n",
      "150/150 [==============================] - ETA: 0s - loss: 0.1153 - accuracy: 0.9540\n",
      "Epoch 88: val_loss did not improve from 0.09341\n",
      "150/150 [==============================] - 0s 3ms/step - loss: 0.1153 - accuracy: 0.9540 - val_loss: 0.1213 - val_accuracy: 0.9617\n",
      "Epoch 89/100\n",
      "150/150 [==============================] - ETA: 0s - loss: 0.1421 - accuracy: 0.9413\n",
      "Epoch 89: val_loss did not improve from 0.09341\n",
      "150/150 [==============================] - 0s 3ms/step - loss: 0.1421 - accuracy: 0.9413 - val_loss: 0.1215 - val_accuracy: 0.9583\n",
      "Epoch 90/100\n",
      "127/150 [========================>.....] - ETA: 0s - loss: 0.1307 - accuracy: 0.9424\n",
      "Epoch 90: val_loss did not improve from 0.09341\n",
      "150/150 [==============================] - 0s 2ms/step - loss: 0.1381 - accuracy: 0.9423 - val_loss: 0.1206 - val_accuracy: 0.9617\n",
      "Epoch 91/100\n",
      "129/150 [========================>.....] - ETA: 0s - loss: 0.1373 - accuracy: 0.9436\n",
      "Epoch 91: val_loss did not improve from 0.09341\n",
      "150/150 [==============================] - 0s 3ms/step - loss: 0.1334 - accuracy: 0.9452 - val_loss: 0.1051 - val_accuracy: 0.9600\n",
      "Epoch 92/100\n",
      "141/150 [===========================>..] - ETA: 0s - loss: 0.1200 - accuracy: 0.9526\n",
      "Epoch 92: val_loss did not improve from 0.09341\n",
      "150/150 [==============================] - 0s 3ms/step - loss: 0.1198 - accuracy: 0.9523 - val_loss: 0.1091 - val_accuracy: 0.9583\n",
      "Epoch 93/100\n",
      "144/150 [===========================>..] - ETA: 0s - loss: 0.1208 - accuracy: 0.9455\n",
      "Epoch 93: val_loss did not improve from 0.09341\n",
      "150/150 [==============================] - 0s 3ms/step - loss: 0.1197 - accuracy: 0.9471 - val_loss: 0.1055 - val_accuracy: 0.9633\n",
      "Epoch 94/100\n",
      "147/150 [============================>.] - ETA: 0s - loss: 0.1172 - accuracy: 0.9488\n",
      "Epoch 94: val_loss did not improve from 0.09341\n",
      "150/150 [==============================] - 0s 3ms/step - loss: 0.1176 - accuracy: 0.9485 - val_loss: 0.1110 - val_accuracy: 0.9625\n",
      "Epoch 95/100\n",
      "144/150 [===========================>..] - ETA: 0s - loss: 0.1338 - accuracy: 0.9492\n",
      "Epoch 95: val_loss did not improve from 0.09341\n",
      "150/150 [==============================] - 0s 3ms/step - loss: 0.1316 - accuracy: 0.9502 - val_loss: 0.1093 - val_accuracy: 0.9625\n",
      "Epoch 96/100\n",
      "143/150 [===========================>..] - ETA: 0s - loss: 0.1188 - accuracy: 0.9559\n",
      "Epoch 96: val_loss did not improve from 0.09341\n",
      "150/150 [==============================] - 0s 3ms/step - loss: 0.1156 - accuracy: 0.9575 - val_loss: 0.0955 - val_accuracy: 0.9600\n",
      "Epoch 97/100\n",
      "130/150 [=========================>....] - ETA: 0s - loss: 0.1157 - accuracy: 0.9582\n",
      "Epoch 97: val_loss did not improve from 0.09341\n",
      "150/150 [==============================] - 0s 3ms/step - loss: 0.1157 - accuracy: 0.9569 - val_loss: 0.0971 - val_accuracy: 0.9633\n",
      "Epoch 98/100\n",
      "148/150 [============================>.] - ETA: 0s - loss: 0.1440 - accuracy: 0.9497\n",
      "Epoch 98: val_loss did not improve from 0.09341\n",
      "150/150 [==============================] - 0s 3ms/step - loss: 0.1438 - accuracy: 0.9496 - val_loss: 0.1082 - val_accuracy: 0.9600\n",
      "Epoch 99/100\n",
      "148/150 [============================>.] - ETA: 0s - loss: 0.1217 - accuracy: 0.9595\n",
      "Epoch 99: val_loss did not improve from 0.09341\n",
      "150/150 [==============================] - 0s 3ms/step - loss: 0.1219 - accuracy: 0.9594 - val_loss: 0.0959 - val_accuracy: 0.9625\n",
      "Epoch 100/100\n",
      "145/150 [============================>.] - ETA: 0s - loss: 0.1186 - accuracy: 0.9582\n",
      "Epoch 100: val_loss did not improve from 0.09341\n",
      "150/150 [==============================] - 0s 3ms/step - loss: 0.1201 - accuracy: 0.9581 - val_loss: 0.1008 - val_accuracy: 0.9608\n",
      "Training completed in time:  0:00:39.670011\n"
     ]
    }
   ],
   "source": [
    "## Trianing my model\n",
    "from tensorflow.keras.callbacks import ModelCheckpoint\n",
    "from datetime import datetime \n",
    "\n",
    "num_epochs = 100\n",
    "num_batch_size = 32\n",
    "\n",
    "checkpointer = ModelCheckpoint(filepath='saved_models/audio_classification_updated.hdf5', \n",
    "                               verbose=1, save_best_only=True)\n",
    "start = datetime.now()\n",
    "\n",
    "model.fit(x_train, y_train, batch_size=num_batch_size, epochs=num_epochs, validation_data=(x_test, y_test), callbacks=[checkpointer], verbose=1)\n",
    "\n",
    "\n",
    "duration = datetime.now() - start\n",
    "print(\"Training completed in time: \", duration)"
   ]
  },
  {
   "cell_type": "code",
   "execution_count": 40,
   "id": "ff605252",
   "metadata": {},
   "outputs": [
    {
     "name": "stdout",
     "output_type": "stream",
     "text": [
      "0.9804166555404663\n"
     ]
    }
   ],
   "source": [
    "test_accuracy=model.evaluate(x_train,y_train,verbose=0)\n",
    "print(test_accuracy[1])"
   ]
  },
  {
   "cell_type": "code",
   "execution_count": 41,
   "id": "f08e35fc",
   "metadata": {},
   "outputs": [
    {
     "name": "stdout",
     "output_type": "stream",
     "text": [
      "0.9608333110809326\n"
     ]
    }
   ],
   "source": [
    "test_accuracy=model.evaluate(x_test,y_test,verbose=0)\n",
    "print(test_accuracy[1])"
   ]
  },
  {
   "cell_type": "code",
   "execution_count": 42,
   "id": "2eccbc23",
   "metadata": {},
   "outputs": [],
   "source": [
    "filename=\"C:/Users/admin/Desktop/spcup_2022_training_part1/spcup_2022_training_part1/00b75d43ebb31451f80e742fdab790d7.wav\"\n",
    "audio, sample_rate = librosa.load(filename, res_type='kaiser_fast') \n",
    "mfccs_features = librosa.feature.mfcc(y=audio, sr=sample_rate, n_mfcc=60)\n",
    "mfccs_scaled_features = np.mean(mfccs_features.T,axis=0)\n",
    "prediction_feature=mfccs_scaled_features.reshape(1,-1)"
   ]
  },
  {
   "cell_type": "code",
   "execution_count": 43,
   "id": "f517e015",
   "metadata": {},
   "outputs": [
    {
     "name": "stdout",
     "output_type": "stream",
     "text": [
      "[4]\n"
     ]
    }
   ],
   "source": [
    "from sklearn.preprocessing import LabelEncoder\n",
    "predict_x=model.predict(prediction_feature) \n",
    "classes_x=np.argmax(predict_x,axis=1)\n",
    "print(classes_x)"
   ]
  },
  {
   "cell_type": "code",
   "execution_count": 44,
   "id": "9c587c84",
   "metadata": {},
   "outputs": [],
   "source": [
    "filename=\"C:/Users/admin/Desktop/spcup_2022_training_part1/spcup_2022_unseen/0cd4bd4f83b6a4ddb56fb5529460412c.wav\"\n",
    "audio, sample_rate = librosa.load(filename, res_type='kaiser_fast') \n",
    "mfccs_features = librosa.feature.mfcc(y=audio, sr=sample_rate, n_mfcc=60)\n",
    "mfccs_scaled_features = np.mean(mfccs_features.T,axis=0)\n",
    "prediction_feature=mfccs_scaled_features.reshape(1,-1)"
   ]
  },
  {
   "cell_type": "code",
   "execution_count": 45,
   "id": "e3d2709b",
   "metadata": {},
   "outputs": [
    {
     "name": "stdout",
     "output_type": "stream",
     "text": [
      "[5]\n"
     ]
    }
   ],
   "source": [
    "predict_x=model.predict(prediction_feature) \n",
    "classes_x=np.argmax(predict_x,axis=1)\n",
    "print(classes_x)"
   ]
  },
  {
   "cell_type": "code",
   "execution_count": 46,
   "id": "7c5538c1",
   "metadata": {},
   "outputs": [
    {
     "data": {
      "text/plain": [
       "(4800, 60)"
      ]
     },
     "execution_count": 46,
     "metadata": {},
     "output_type": "execute_result"
    }
   ],
   "source": [
    "x_train.shape"
   ]
  },
  {
   "cell_type": "code",
   "execution_count": 47,
   "id": "cccea692",
   "metadata": {},
   "outputs": [
    {
     "data": {
      "text/plain": [
       "(1200, 60)"
      ]
     },
     "execution_count": 47,
     "metadata": {},
     "output_type": "execute_result"
    }
   ],
   "source": [
    "x_test.shape"
   ]
  },
  {
   "cell_type": "code",
   "execution_count": 52,
   "id": "573d2ec4",
   "metadata": {},
   "outputs": [],
   "source": [
    "y1=np.array(extracted_features_df['algorithm'].tolist())"
   ]
  },
  {
   "cell_type": "code",
   "execution_count": 53,
   "id": "a81ea1b5",
   "metadata": {},
   "outputs": [],
   "source": [
    "x1_train,x1_test,y1_train,y1_test=train_test_split(x,y1,test_size=0.2,random_state=0)"
   ]
  },
  {
   "cell_type": "code",
   "execution_count": 54,
   "id": "63b1dbeb",
   "metadata": {},
   "outputs": [],
   "source": [
    "from numpy import loadtxt\n",
    "from xgboost import XGBClassifier\n",
    "from sklearn.model_selection import train_test_split\n",
    "from sklearn.metrics import accuracy_score"
   ]
  },
  {
   "cell_type": "code",
   "execution_count": 56,
   "id": "ba924943",
   "metadata": {},
   "outputs": [
    {
     "name": "stderr",
     "output_type": "stream",
     "text": [
      "C:\\Users\\admin\\anaconda3\\lib\\site-packages\\xgboost\\sklearn.py:1224: UserWarning: The use of label encoder in XGBClassifier is deprecated and will be removed in a future release. To remove this warning, do the following: 1) Pass option use_label_encoder=False when constructing XGBClassifier object; and 2) Encode your labels (y) as integers starting with 0, i.e. 0, 1, 2, ..., [num_class - 1].\n",
      "  warnings.warn(label_encoder_deprecation_msg, UserWarning)\n"
     ]
    },
    {
     "name": "stdout",
     "output_type": "stream",
     "text": [
      "[00:19:25] WARNING: C:/Users/Administrator/workspace/xgboost-win64_release_1.5.1/src/learner.cc:1115: Starting in XGBoost 1.3.0, the default evaluation metric used with the objective 'multi:softprob' was changed from 'merror' to 'mlogloss'. Explicitly set eval_metric if you'd like to restore the old behavior.\n"
     ]
    },
    {
     "data": {
      "text/plain": [
       "XGBClassifier(base_score=0.5, booster='gbtree', colsample_bylevel=1,\n",
       "              colsample_bynode=1, colsample_bytree=1, enable_categorical=False,\n",
       "              gamma=0, gpu_id=-1, importance_type=None,\n",
       "              interaction_constraints='', learning_rate=0.300000012,\n",
       "              max_delta_step=0, max_depth=6, min_child_weight=1, missing=nan,\n",
       "              monotone_constraints='()', n_estimators=100, n_jobs=8,\n",
       "              num_parallel_tree=1, objective='multi:softprob', predictor='auto',\n",
       "              random_state=0, reg_alpha=0, reg_lambda=1, scale_pos_weight=None,\n",
       "              subsample=1, tree_method='exact', validate_parameters=1,\n",
       "              verbosity=None)"
      ]
     },
     "execution_count": 56,
     "metadata": {},
     "output_type": "execute_result"
    }
   ],
   "source": [
    "# fit model no training data\n",
    "model = XGBClassifier()\n",
    "model.fit(x1_train, y1_train)"
   ]
  },
  {
   "cell_type": "code",
   "execution_count": 57,
   "id": "2dd9b674",
   "metadata": {},
   "outputs": [],
   "source": [
    "# make predictions for test data\n",
    "y_pred = model.predict(x1_test)\n",
    "predictions = [round(value) for value in y_pred]"
   ]
  },
  {
   "cell_type": "code",
   "execution_count": 58,
   "id": "43a26f01",
   "metadata": {},
   "outputs": [
    {
     "name": "stdout",
     "output_type": "stream",
     "text": [
      "Accuracy: 96.58%\n"
     ]
    }
   ],
   "source": [
    "# evaluate predictions\n",
    "accuracy = accuracy_score(y1_test, predictions)\n",
    "print(\"Accuracy: %.2f%%\" % (accuracy * 100.0))"
   ]
  },
  {
   "cell_type": "code",
   "execution_count": null,
   "id": "3dd57801",
   "metadata": {},
   "outputs": [],
   "source": []
  },
  {
   "cell_type": "code",
   "execution_count": null,
   "id": "b560a4fa",
   "metadata": {},
   "outputs": [],
   "source": []
  }
 ],
 "metadata": {
  "kernelspec": {
   "display_name": "Python 3 (ipykernel)",
   "language": "python",
   "name": "python3"
  },
  "language_info": {
   "codemirror_mode": {
    "name": "ipython",
    "version": 3
   },
   "file_extension": ".py",
   "mimetype": "text/x-python",
   "name": "python",
   "nbconvert_exporter": "python",
   "pygments_lexer": "ipython3",
   "version": "3.9.7"
  }
 },
 "nbformat": 4,
 "nbformat_minor": 5
}
