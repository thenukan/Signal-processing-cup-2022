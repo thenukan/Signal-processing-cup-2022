{
 "cells": [
  {
   "cell_type": "code",
   "execution_count": 133,
   "id": "97374757",
   "metadata": {},
   "outputs": [],
   "source": [
    "#NEEDED LIBRARY\n",
    "import matplotlib.pyplot as plt\n",
    "%matplotlib inline\n",
    "import IPython.display as ipd\n",
    "import librosa\n",
    "import librosa.display\n",
    "import scipy\n",
    "from scipy import io\n",
    "import scipy.io.wavfile\n",
    "from spafe.utils import vis\n",
    "from spafe.features.gfcc import gfcc\n",
    "import numpy as np"
   ]
  },
  {
   "cell_type": "code",
   "execution_count": 134,
   "id": "6292f891",
   "metadata": {},
   "outputs": [],
   "source": [
    "import pandas as pd\n",
    "metadata=pd.read_csv(\"C:/Users/admin/Desktop/spcup_2022_training_part1/spcup_2022_training_part1_noise/labels.csv\")#READ TRAINING PART CSV FOR KNOWN ALGORITHM"
   ]
  },
  {
   "cell_type": "code",
   "execution_count": 135,
   "id": "a8d13271",
   "metadata": {},
   "outputs": [],
   "source": [
    "metadata_un=pd.read_csv(\"C:/Users/admin/Desktop/spcup_2022_training_part1/spcup_2022_unseen_noise/labels.csv\")#READ TRAINING PART CSV FOR UNKNOWN ALGORITHM"
   ]
  },
  {
   "cell_type": "code",
   "execution_count": 136,
   "id": "204f51a9",
   "metadata": {},
   "outputs": [],
   "source": [
    "#MFCC FEATURE EXTRCTION\n",
    "def feature_extractor(file):\n",
    "    data,sample_rate=librosa.load(file,res_type='kaiser_fast')\n",
    "    mfccs=librosa.feature.mfcc(y=data,sr=sample_rate,n_mfcc=60)    \n",
    "    mfccs_scaled_features=np.mean(mfccs.T,axis=0)\n",
    "    mfccs_scaled_features1=np.std(mfccs.T,axis=0)\n",
    "    return mfccs_scaled_features+mfccs_scaled_features1"
   ]
  },
  {
   "cell_type": "code",
   "execution_count": 137,
   "id": "ab7b43e4",
   "metadata": {},
   "outputs": [],
   "source": [
    "import os\n",
    "audio_dataset_path=\"C:/Users/admin/Desktop/spcup_2022_training_part1/spcup_2022_training_part1_noise/\"#SET PATH FOR TRAINING PART FOR KNOWN ALGORITHM\n",
    "audio_dataset_path_un=\"C:/Users/admin/Desktop/spcup_2022_training_part1/spcup_2022_unseen_noise/\"#SET PATH FOR TRAINING PART FOR UNKNOWN ALGORITHM"
   ]
  },
  {
   "cell_type": "code",
   "execution_count": 138,
   "id": "b553aa32",
   "metadata": {},
   "outputs": [
    {
     "name": "stderr",
     "output_type": "stream",
     "text": [
      "5000it [00:00, 9671.14it/s] \n"
     ]
    }
   ],
   "source": [
    "#ADD NAMES FOR NOISE DATA WITH KNOWN ALGORITHM\n",
    "audio_label=[]\n",
    "from tqdm import tqdm\n",
    "for index,row in tqdm(metadata.iterrows()):\n",
    "    final_class_label=row[\"algorithm\"]\n",
    "    audio_label.append([str(row[\"track\"]),final_class_label])\n",
    "    audio_label.append([str(row[\"track\"][0:-4])+\"_noise\"+str(row[\"track\"][-4:]),final_class_label])\n",
    "    audio_label.append([str(row[\"track\"][0:-4])+\"_noise_reverb\"+str(row[\"track\"][-4:]),final_class_label])\n",
    "    audio_label.append([str(row[\"track\"][0:-4])+\"_reverb\"+str(row[\"track\"][-4:]),final_class_label])\n",
    "    #audio_label.append([str(row[\"track\"][0:-4])+\"_compressed\"+\".mp3\",final_class_label])\n",
    "    "
   ]
  },
  {
   "cell_type": "code",
   "execution_count": 139,
   "id": "9aeb6dce",
   "metadata": {},
   "outputs": [
    {
     "name": "stderr",
     "output_type": "stream",
     "text": [
      "1000it [00:00, 9009.60it/s]\n"
     ]
    }
   ],
   "source": [
    "#ADD NAMES FOR NOISE DATA WITH UNKNOWN ALGORITHM\n",
    "audio_label_un=[]\n",
    "from tqdm import tqdm\n",
    "for index,row in tqdm(metadata_un.iterrows()):\n",
    "    final_class_label=row[\"algorithm\"]\n",
    "    audio_label_un.append([str(row[\"track\"]),final_class_label])\n",
    "   # audio_label_un.append([str(row[\"track\"][0:-4])+\"_compressed\"+\".mp3\",final_class_label])\n",
    "    audio_label_un.append([str(row[\"track\"][0:-4])+\"_noise\"+str(row[\"track\"][-4:]),final_class_label])\n",
    "    audio_label_un.append([str(row[\"track\"][0:-4])+\"_reverb\"+str(row[\"track\"][-4:]),final_class_label])\n",
    "    "
   ]
  },
  {
   "cell_type": "code",
   "execution_count": 140,
   "id": "fd95cd72",
   "metadata": {},
   "outputs": [],
   "source": [
    "dataFrame_un=pd.DataFrame(audio_label_un,columns =['track', 'algorithm'])"
   ]
  },
  {
   "cell_type": "code",
   "execution_count": 141,
   "id": "53c49947",
   "metadata": {},
   "outputs": [],
   "source": [
    "dataFrame=pd.DataFrame(audio_label,columns =['track', 'algorithm'])"
   ]
  },
  {
   "cell_type": "code",
   "execution_count": 142,
   "id": "9048ed07",
   "metadata": {},
   "outputs": [],
   "source": [
    "dataFrame.to_csv('C:/Users/admin/Desktop/spcup_2022_training_part1/spcup_2022_training_part1_noise/labe_noise.csv', index=False)# SAVE NOISE FILE NAME IN CSV WITH KNOWN ALGORITHM "
   ]
  },
  {
   "cell_type": "code",
   "execution_count": 143,
   "id": "201d48fe",
   "metadata": {},
   "outputs": [],
   "source": [
    "dataFrame_un.to_csv('C:/Users/admin/Desktop/spcup_2022_training_part1/spcup_2022_unseen_noise/labe_noise.csv', index=False)# SAVE NOISE FILE NAME IN CSV WITH KNOWN ALGORITHM  "
   ]
  },
  {
   "cell_type": "code",
   "execution_count": 144,
   "id": "95f5b566",
   "metadata": {},
   "outputs": [],
   "source": [
    "extracted_features=[]# LIST FOR ECTRACTED FEATURES"
   ]
  },
  {
   "cell_type": "code",
   "execution_count": 145,
   "id": "d4a80468",
   "metadata": {},
   "outputs": [
    {
     "name": "stderr",
     "output_type": "stream",
     "text": [
      "20000it [40:49,  8.16it/s]\n"
     ]
    }
   ],
   "source": [
    "# READ AND EXTRACTED FEATURES OF NOISE DATA WITH KNOWN ALGORITHM\n",
    "import numpy as np\n",
    "from tqdm import tqdm\n",
    "data=pd.read_csv(\"C:/Users/admin/Desktop/spcup_2022_training_part1/spcup_2022_training_part1_noise/labe_noise.csv\")\n",
    "\n",
    "for index,row in tqdm(data.iterrows()):\n",
    "    file_name=os.path.join(os.path.abspath(audio_dataset_path),str(row[\"track\"]))\n",
    "    final_class_label=row[\"algorithm\"]\n",
    "    data=feature_extractor(file_name)\n",
    "    extracted_features.append([data,final_class_label])\n",
    "    \n",
    "    \n"
   ]
  },
  {
   "cell_type": "code",
   "execution_count": 146,
   "id": "5c68a125",
   "metadata": {},
   "outputs": [],
   "source": [
    "data=pd.DataFrame(extracted_features)"
   ]
  },
  {
   "cell_type": "code",
   "execution_count": 147,
   "id": "e9238125",
   "metadata": {},
   "outputs": [
    {
     "name": "stderr",
     "output_type": "stream",
     "text": [
      "3000it [04:59, 10.02it/s]\n"
     ]
    }
   ],
   "source": [
    "# READ AND EXTRACTED FEATURES OF NOISE DATA WITH KNOWN ALGORITHM\n",
    "data_un=pd.read_csv(\"C:/Users/admin/Desktop/spcup_2022_training_part1/spcup_2022_unseen_noise/labe_noise.csv\")\n",
    "\n",
    "for index,row in tqdm(data_un.iterrows()):\n",
    "    file_name=os.path.join(os.path.abspath(audio_dataset_path_un),str(row[\"track\"]))\n",
    "    final_class_label=row[\"algorithm\"]\n",
    "    data=feature_extractor(file_name)\n",
    "    extracted_features.append([data,final_class_label])"
   ]
  },
  {
   "cell_type": "code",
   "execution_count": 151,
   "id": "779e0f1e",
   "metadata": {},
   "outputs": [
    {
     "name": "stderr",
     "output_type": "stream",
     "text": [
      "5000it [00:00, 6729.51it/s]\n"
     ]
    }
   ],
   "source": [
    "#ADD NAMES FOR mp3 DATA WITH KNOWN ALGORITHM\n",
    "audio_label_mp3=[]\n",
    "from tqdm import tqdm\n",
    "for index,row in tqdm(metadata.iterrows()):\n",
    "    final_class_label=row[\"algorithm\"]\n",
    "\n",
    "    audio_label_mp3.append([str(row[\"track\"][0:-4])+\"_compressed\"+\".mp3\",final_class_label])"
   ]
  },
  {
   "cell_type": "code",
   "execution_count": 152,
   "id": "9ddd2357",
   "metadata": {},
   "outputs": [
    {
     "name": "stderr",
     "output_type": "stream",
     "text": [
      "1000it [00:00, 5917.40it/s]\n"
     ]
    }
   ],
   "source": [
    "#ADD NAMES FOR mp3 DATA WITH UNKNOWN ALGORITHM\n",
    "audio_label_un_mp3=[]\n",
    "from tqdm import tqdm\n",
    "for index,row in tqdm(metadata_un.iterrows()):\n",
    "    final_class_label=row[\"algorithm\"]\n",
    "\n",
    "    audio_label_un_mp3.append([str(row[\"track\"][0:-4])+\"_compressed\"+\".mp3\",final_class_label])"
   ]
  },
  {
   "cell_type": "code",
   "execution_count": 153,
   "id": "48f2d811",
   "metadata": {},
   "outputs": [],
   "source": [
    "dataFrame_mp3=pd.DataFrame(audio_label_mp3,columns =['track', 'algorithm'])\n",
    "dataFrame_un_mp3=pd.DataFrame(audio_label_un_mp3,columns =['track', 'algorithm'])"
   ]
  },
  {
   "cell_type": "code",
   "execution_count": null,
   "id": "2f9307ec",
   "metadata": {},
   "outputs": [
    {
     "name": "stderr",
     "output_type": "stream",
     "text": [
      "0it [00:00, ?it/s]C:\\Users\\admin\\AppData\\Local\\Temp/ipykernel_2984/1134418765.py:3: UserWarning: PySoundFile failed. Trying audioread instead.\n",
      "  data,sample_rate=librosa.load(file,res_type='kaiser_fast')\n",
      "2748it [25:37,  4.91s/it]"
     ]
    }
   ],
   "source": [
    "# READ AND EXTRACTED FEATURES OF mp3 DATA WITH KNOWN ALGORITHM\n",
    "for index,row in tqdm(dataFrame_mp3.iterrows()):\n",
    "    file_name=os.path.join(os.path.abspath(audio_dataset_path),str(row[\"track\"]))\n",
    "    final_class_label=row[\"algorithm\"]\n",
    "    data=feature_extractor(file_name)\n",
    "    extracted_features.append([data,final_class_label])"
   ]
  },
  {
   "cell_type": "code",
   "execution_count": 67,
   "id": "58f20984",
   "metadata": {},
   "outputs": [
    {
     "name": "stderr",
     "output_type": "stream",
     "text": [
      "0it [00:00, ?it/s]C:\\Users\\admin\\AppData\\Local\\Temp/ipykernel_2984/729393007.py:2: UserWarning: PySoundFile failed. Trying audioread instead.\n",
      "  data,sample_rate=librosa.load(file,res_type='kaiser_fast')\n",
      "1000it [04:05,  4.08it/s]\n"
     ]
    }
   ],
   "source": [
    "# READ AND EXTRACTED FEATURES OF mp3 DATA WITH UNKNOWN ALGORITHM\n",
    "for index,row in tqdm(dataFrame_un_mp3.iterrows()):\n",
    "    file_name=os.path.join(os.path.abspath(audio_dataset_path_un),str(row[\"track\"]))\n",
    "    final_class_label=row[\"algorithm\"]\n",
    "    data=feature_extractor(file_name)\n",
    "    extracted_features.append([data,final_class_label])\n",
    "    "
   ]
  },
  {
   "cell_type": "code",
   "execution_count": 150,
   "id": "08a97d8e",
   "metadata": {},
   "outputs": [
    {
     "data": {
      "text/plain": [
       "23000"
      ]
     },
     "execution_count": 150,
     "metadata": {},
     "output_type": "execute_result"
    }
   ],
   "source": [
    "#SHUFFLE DATASET RANDOMLY\n",
    "import random\n",
    "random.shuffle(extracted_features)\n",
    "len(extracted_features)"
   ]
  },
  {
   "cell_type": "code",
   "execution_count": 130,
   "id": "703033b7",
   "metadata": {},
   "outputs": [
    {
     "data": {
      "text/html": [
       "<div>\n",
       "<style scoped>\n",
       "    .dataframe tbody tr th:only-of-type {\n",
       "        vertical-align: middle;\n",
       "    }\n",
       "\n",
       "    .dataframe tbody tr th {\n",
       "        vertical-align: top;\n",
       "    }\n",
       "\n",
       "    .dataframe thead th {\n",
       "        text-align: right;\n",
       "    }\n",
       "</style>\n",
       "<table border=\"1\" class=\"dataframe\">\n",
       "  <thead>\n",
       "    <tr style=\"text-align: right;\">\n",
       "      <th></th>\n",
       "      <th>track</th>\n",
       "      <th>algorithm</th>\n",
       "    </tr>\n",
       "  </thead>\n",
       "  <tbody>\n",
       "  </tbody>\n",
       "</table>\n",
       "</div>"
      ],
      "text/plain": [
       "Empty DataFrame\n",
       "Columns: [track, algorithm]\n",
       "Index: []"
      ]
     },
     "execution_count": 130,
     "metadata": {},
     "output_type": "execute_result"
    }
   ],
   "source": [
    "extracted_features_df=pd.DataFrame(extracted_features,columns=['track','algorithm'])\n",
    "extracted_features_df"
   ]
  },
  {
   "cell_type": "code",
   "execution_count": 126,
   "id": "ed28bec9",
   "metadata": {},
   "outputs": [],
   "source": [
    "x=np.array(extracted_features_df['track'].tolist())\n",
    "y=np.array(extracted_features_df['algorithm'].tolist())"
   ]
  },
  {
   "cell_type": "code",
   "execution_count": null,
   "id": "fd185c29",
   "metadata": {},
   "outputs": [],
   "source": [
    "y=np.array(pd.get_dummies(y))\n"
   ]
  },
  {
   "cell_type": "code",
   "execution_count": null,
   "id": "b9bbd48b",
   "metadata": {},
   "outputs": [],
   "source": [
    "from sklearn.model_selection import train_test_split\n",
    "x_train,x_test,y_train,y_test=train_test_split(x,y,test_size=0.1,random_state=0)"
   ]
  },
  {
   "cell_type": "code",
   "execution_count": 75,
   "id": "5d5a1311",
   "metadata": {},
   "outputs": [],
   "source": [
    "from tensorflow.keras.models import Sequential\n",
    "from tensorflow.keras.layers import Dense,Dropout,Activation,Flatten\n",
    "from tensorflow.keras.optimizers import Adam\n",
    "from sklearn import metrics"
   ]
  },
  {
   "cell_type": "code",
   "execution_count": 76,
   "id": "7c4272a8",
   "metadata": {},
   "outputs": [],
   "source": [
    "num_labels=y.shape[1]"
   ]
  },
  {
   "cell_type": "code",
   "execution_count": 77,
   "id": "b507dc6f",
   "metadata": {},
   "outputs": [],
   "source": [
    "#MODEL\n",
    "model=Sequential()\n",
    "###first layer\n",
    "model.add(Dense(100,input_shape=(60,)))\n",
    "model.add(Activation('relu'))\n",
    "model.add(Dropout(0.5))\n",
    "###second layer\n",
    "model.add(Dense(200))\n",
    "model.add(Activation('relu'))\n",
    "model.add(Dropout(0.5))\n",
    "###third layer\n",
    "model.add(Dense(100))\n",
    "model.add(Activation('relu'))\n",
    "model.add(Dropout(0.5))\n",
    "\n",
    "###final layer\n",
    "model.add(Dense(num_labels))\n",
    "model.add(Activation('softmax'))"
   ]
  },
  {
   "cell_type": "code",
   "execution_count": 78,
   "id": "eab277a8",
   "metadata": {},
   "outputs": [],
   "source": [
    "model.compile(loss='categorical_crossentropy',metrics=['accuracy'],optimizer='adam')"
   ]
  },
  {
   "cell_type": "code",
   "execution_count": 80,
   "id": "8ebd6a1f",
   "metadata": {},
   "outputs": [
    {
     "name": "stdout",
     "output_type": "stream",
     "text": [
      "Epoch 1/100\n",
      "890/906 [============================>.] - ETA: 0s - loss: 0.5059 - accuracy: 0.7762\n",
      "Epoch 1: val_loss improved from inf to 0.25395, saving model to C:/Users/admin/Desktop/saved_models\\audio_classification_part2.hdf5\n",
      "906/906 [==============================] - 3s 3ms/step - loss: 0.5055 - accuracy: 0.7767 - val_loss: 0.2539 - val_accuracy: 0.8621\n",
      "Epoch 2/100\n",
      "891/906 [============================>.] - ETA: 0s - loss: 0.4591 - accuracy: 0.8003\n",
      "Epoch 2: val_loss improved from 0.25395 to 0.24642, saving model to C:/Users/admin/Desktop/saved_models\\audio_classification_part2.hdf5\n",
      "906/906 [==============================] - 3s 3ms/step - loss: 0.4592 - accuracy: 0.8003 - val_loss: 0.2464 - val_accuracy: 0.8966\n",
      "Epoch 3/100\n",
      "895/906 [============================>.] - ETA: 0s - loss: 0.4408 - accuracy: 0.8154\n",
      "Epoch 3: val_loss improved from 0.24642 to 0.20183, saving model to C:/Users/admin/Desktop/saved_models\\audio_classification_part2.hdf5\n",
      "906/906 [==============================] - 3s 3ms/step - loss: 0.4402 - accuracy: 0.8159 - val_loss: 0.2018 - val_accuracy: 0.9310\n",
      "Epoch 4/100\n",
      "905/906 [============================>.] - ETA: 0s - loss: 0.4037 - accuracy: 0.8357\n",
      "Epoch 4: val_loss did not improve from 0.20183\n",
      "906/906 [==============================] - 3s 3ms/step - loss: 0.4036 - accuracy: 0.8358 - val_loss: 0.2062 - val_accuracy: 0.9655\n",
      "Epoch 5/100\n",
      "894/906 [============================>.] - ETA: 0s - loss: 0.3941 - accuracy: 0.8438\n",
      "Epoch 5: val_loss improved from 0.20183 to 0.18808, saving model to C:/Users/admin/Desktop/saved_models\\audio_classification_part2.hdf5\n",
      "906/906 [==============================] - 3s 3ms/step - loss: 0.3943 - accuracy: 0.8438 - val_loss: 0.1881 - val_accuracy: 0.9655\n",
      "Epoch 6/100\n",
      "892/906 [============================>.] - ETA: 0s - loss: 0.3663 - accuracy: 0.8523\n",
      "Epoch 6: val_loss improved from 0.18808 to 0.17735, saving model to C:/Users/admin/Desktop/saved_models\\audio_classification_part2.hdf5\n",
      "906/906 [==============================] - 3s 4ms/step - loss: 0.3651 - accuracy: 0.8528 - val_loss: 0.1774 - val_accuracy: 0.9655\n",
      "Epoch 7/100\n",
      "906/906 [==============================] - ETA: 0s - loss: 0.3505 - accuracy: 0.8617\n",
      "Epoch 7: val_loss improved from 0.17735 to 0.16367, saving model to C:/Users/admin/Desktop/saved_models\\audio_classification_part2.hdf5\n",
      "906/906 [==============================] - 3s 3ms/step - loss: 0.3505 - accuracy: 0.8617 - val_loss: 0.1637 - val_accuracy: 0.9655\n",
      "Epoch 8/100\n",
      "899/906 [============================>.] - ETA: 0s - loss: 0.3380 - accuracy: 0.8701\n",
      "Epoch 8: val_loss did not improve from 0.16367\n",
      "906/906 [==============================] - 3s 3ms/step - loss: 0.3382 - accuracy: 0.8699 - val_loss: 0.1738 - val_accuracy: 0.9655\n",
      "Epoch 9/100\n",
      "899/906 [============================>.] - ETA: 0s - loss: 0.3238 - accuracy: 0.8758\n",
      "Epoch 9: val_loss did not improve from 0.16367\n",
      "906/906 [==============================] - 3s 4ms/step - loss: 0.3250 - accuracy: 0.8757 - val_loss: 0.1806 - val_accuracy: 0.9655\n",
      "Epoch 10/100\n",
      "895/906 [============================>.] - ETA: 0s - loss: 0.3169 - accuracy: 0.8798\n",
      "Epoch 10: val_loss did not improve from 0.16367\n",
      "906/906 [==============================] - 3s 3ms/step - loss: 0.3167 - accuracy: 0.8799 - val_loss: 0.1780 - val_accuracy: 0.8966\n",
      "Epoch 11/100\n",
      "905/906 [============================>.] - ETA: 0s - loss: 0.3101 - accuracy: 0.8857\n",
      "Epoch 11: val_loss did not improve from 0.16367\n",
      "906/906 [==============================] - 4s 5ms/step - loss: 0.3103 - accuracy: 0.8856 - val_loss: 0.1676 - val_accuracy: 0.9655\n",
      "Epoch 12/100\n",
      "894/906 [============================>.] - ETA: 0s - loss: 0.3036 - accuracy: 0.8879\n",
      "Epoch 12: val_loss improved from 0.16367 to 0.15664, saving model to C:/Users/admin/Desktop/saved_models\\audio_classification_part2.hdf5\n",
      "906/906 [==============================] - 4s 4ms/step - loss: 0.3038 - accuracy: 0.8879 - val_loss: 0.1566 - val_accuracy: 0.9655\n",
      "Epoch 13/100\n",
      "901/906 [============================>.] - ETA: 0s - loss: 0.2937 - accuracy: 0.8931\n",
      "Epoch 13: val_loss improved from 0.15664 to 0.15361, saving model to C:/Users/admin/Desktop/saved_models\\audio_classification_part2.hdf5\n",
      "906/906 [==============================] - 3s 4ms/step - loss: 0.2933 - accuracy: 0.8931 - val_loss: 0.1536 - val_accuracy: 0.9310\n",
      "Epoch 14/100\n",
      "895/906 [============================>.] - ETA: 0s - loss: 0.2871 - accuracy: 0.8940\n",
      "Epoch 14: val_loss did not improve from 0.15361\n",
      "906/906 [==============================] - 3s 3ms/step - loss: 0.2867 - accuracy: 0.8942 - val_loss: 0.1620 - val_accuracy: 0.9310\n",
      "Epoch 15/100\n",
      "900/906 [============================>.] - ETA: 0s - loss: 0.2837 - accuracy: 0.8985\n",
      "Epoch 15: val_loss improved from 0.15361 to 0.14369, saving model to C:/Users/admin/Desktop/saved_models\\audio_classification_part2.hdf5\n",
      "906/906 [==============================] - 3s 4ms/step - loss: 0.2832 - accuracy: 0.8987 - val_loss: 0.1437 - val_accuracy: 0.9655\n",
      "Epoch 16/100\n",
      "902/906 [============================>.] - ETA: 0s - loss: 0.2813 - accuracy: 0.8999\n",
      "Epoch 16: val_loss did not improve from 0.14369\n",
      "906/906 [==============================] - 4s 4ms/step - loss: 0.2813 - accuracy: 0.9000 - val_loss: 0.1680 - val_accuracy: 0.9310\n",
      "Epoch 17/100\n",
      "891/906 [============================>.] - ETA: 0s - loss: 0.2714 - accuracy: 0.9019\n",
      "Epoch 17: val_loss improved from 0.14369 to 0.13319, saving model to C:/Users/admin/Desktop/saved_models\\audio_classification_part2.hdf5\n",
      "906/906 [==============================] - 3s 3ms/step - loss: 0.2712 - accuracy: 0.9020 - val_loss: 0.1332 - val_accuracy: 0.9655\n",
      "Epoch 18/100\n",
      "893/906 [============================>.] - ETA: 0s - loss: 0.2884 - accuracy: 0.8956\n",
      "Epoch 18: val_loss did not improve from 0.13319\n",
      "906/906 [==============================] - 3s 4ms/step - loss: 0.2885 - accuracy: 0.8956 - val_loss: 0.1537 - val_accuracy: 0.9655\n",
      "Epoch 19/100\n",
      "893/906 [============================>.] - ETA: 0s - loss: 0.2856 - accuracy: 0.8967\n",
      "Epoch 19: val_loss did not improve from 0.13319\n",
      "906/906 [==============================] - 3s 3ms/step - loss: 0.2856 - accuracy: 0.8968 - val_loss: 0.1334 - val_accuracy: 0.9655\n",
      "Epoch 20/100\n",
      "906/906 [==============================] - ETA: 0s - loss: 0.2742 - accuracy: 0.9003\n",
      "Epoch 20: val_loss did not improve from 0.13319\n",
      "906/906 [==============================] - 4s 4ms/step - loss: 0.2742 - accuracy: 0.9003 - val_loss: 0.1374 - val_accuracy: 0.9655\n",
      "Epoch 21/100\n",
      "905/906 [============================>.] - ETA: 0s - loss: 0.2744 - accuracy: 0.9000\n",
      "Epoch 21: val_loss did not improve from 0.13319\n",
      "906/906 [==============================] - 3s 4ms/step - loss: 0.2744 - accuracy: 0.8999 - val_loss: 0.1676 - val_accuracy: 0.9310\n",
      "Epoch 22/100\n",
      "896/906 [============================>.] - ETA: 0s - loss: 0.2670 - accuracy: 0.9021\n",
      "Epoch 22: val_loss did not improve from 0.13319\n",
      "906/906 [==============================] - 3s 3ms/step - loss: 0.2675 - accuracy: 0.9021 - val_loss: 0.2137 - val_accuracy: 0.8966\n",
      "Epoch 23/100\n",
      "905/906 [============================>.] - ETA: 0s - loss: 0.2741 - accuracy: 0.9051\n",
      "Epoch 23: val_loss did not improve from 0.13319\n",
      "906/906 [==============================] - 3s 3ms/step - loss: 0.2740 - accuracy: 0.9052 - val_loss: 0.1519 - val_accuracy: 0.9310\n",
      "Epoch 24/100\n",
      "904/906 [============================>.] - ETA: 0s - loss: 0.2663 - accuracy: 0.9060\n",
      "Epoch 24: val_loss did not improve from 0.13319\n",
      "906/906 [==============================] - 3s 3ms/step - loss: 0.2666 - accuracy: 0.9060 - val_loss: 0.1742 - val_accuracy: 0.8966\n",
      "Epoch 25/100\n",
      "902/906 [============================>.] - ETA: 0s - loss: 0.2624 - accuracy: 0.9047\n",
      "Epoch 25: val_loss did not improve from 0.13319\n",
      "906/906 [==============================] - 3s 4ms/step - loss: 0.2619 - accuracy: 0.9049 - val_loss: 0.1570 - val_accuracy: 0.9310\n",
      "Epoch 26/100\n",
      "898/906 [============================>.] - ETA: 0s - loss: 0.2608 - accuracy: 0.9062\n",
      "Epoch 26: val_loss did not improve from 0.13319\n",
      "906/906 [==============================] - 3s 4ms/step - loss: 0.2608 - accuracy: 0.9061 - val_loss: 0.1361 - val_accuracy: 0.9310\n",
      "Epoch 27/100\n",
      "892/906 [============================>.] - ETA: 0s - loss: 0.2539 - accuracy: 0.9094\n",
      "Epoch 27: val_loss did not improve from 0.13319\n"
     ]
    },
    {
     "name": "stdout",
     "output_type": "stream",
     "text": [
      "906/906 [==============================] - 3s 3ms/step - loss: 0.2540 - accuracy: 0.9094 - val_loss: 0.1361 - val_accuracy: 0.9655\n",
      "Epoch 28/100\n",
      "905/906 [============================>.] - ETA: 0s - loss: 0.2519 - accuracy: 0.9118\n",
      "Epoch 28: val_loss did not improve from 0.13319\n",
      "906/906 [==============================] - 3s 3ms/step - loss: 0.2519 - accuracy: 0.9118 - val_loss: 0.1391 - val_accuracy: 0.9655\n",
      "Epoch 29/100\n",
      "895/906 [============================>.] - ETA: 0s - loss: 0.2522 - accuracy: 0.9096\n",
      "Epoch 29: val_loss did not improve from 0.13319\n",
      "906/906 [==============================] - 3s 3ms/step - loss: 0.2520 - accuracy: 0.9094 - val_loss: 0.1848 - val_accuracy: 0.9310\n",
      "Epoch 30/100\n",
      "898/906 [============================>.] - ETA: 0s - loss: 0.2524 - accuracy: 0.9080\n",
      "Epoch 30: val_loss improved from 0.13319 to 0.12422, saving model to C:/Users/admin/Desktop/saved_models\\audio_classification_part2.hdf5\n",
      "906/906 [==============================] - 3s 4ms/step - loss: 0.2533 - accuracy: 0.9078 - val_loss: 0.1242 - val_accuracy: 0.9310\n",
      "Epoch 31/100\n",
      "900/906 [============================>.] - ETA: 0s - loss: 0.2563 - accuracy: 0.9089\n",
      "Epoch 31: val_loss did not improve from 0.12422\n",
      "906/906 [==============================] - 4s 4ms/step - loss: 0.2562 - accuracy: 0.9089 - val_loss: 0.1988 - val_accuracy: 0.8966\n",
      "Epoch 32/100\n",
      "895/906 [============================>.] - ETA: 0s - loss: 0.2541 - accuracy: 0.9089\n",
      "Epoch 32: val_loss did not improve from 0.12422\n",
      "906/906 [==============================] - 4s 4ms/step - loss: 0.2548 - accuracy: 0.9088 - val_loss: 0.1329 - val_accuracy: 0.9655\n",
      "Epoch 33/100\n",
      "895/906 [============================>.] - ETA: 0s - loss: 0.2507 - accuracy: 0.9094\n",
      "Epoch 33: val_loss did not improve from 0.12422\n",
      "906/906 [==============================] - 3s 3ms/step - loss: 0.2500 - accuracy: 0.9094 - val_loss: 0.1399 - val_accuracy: 0.9310\n",
      "Epoch 34/100\n",
      "899/906 [============================>.] - ETA: 0s - loss: 0.2461 - accuracy: 0.9121\n",
      "Epoch 34: val_loss did not improve from 0.12422\n",
      "906/906 [==============================] - 3s 3ms/step - loss: 0.2465 - accuracy: 0.9121 - val_loss: 0.1641 - val_accuracy: 0.9310\n",
      "Epoch 35/100\n",
      "898/906 [============================>.] - ETA: 0s - loss: 0.2478 - accuracy: 0.9109\n",
      "Epoch 35: val_loss did not improve from 0.12422\n",
      "906/906 [==============================] - 4s 4ms/step - loss: 0.2479 - accuracy: 0.9110 - val_loss: 0.1753 - val_accuracy: 0.9310\n",
      "Epoch 36/100\n",
      "902/906 [============================>.] - ETA: 0s - loss: 0.2567 - accuracy: 0.9085\n",
      "Epoch 36: val_loss did not improve from 0.12422\n",
      "906/906 [==============================] - 3s 4ms/step - loss: 0.2568 - accuracy: 0.9084 - val_loss: 0.1427 - val_accuracy: 0.9655\n",
      "Epoch 37/100\n",
      "906/906 [==============================] - ETA: 0s - loss: 0.2502 - accuracy: 0.9102\n",
      "Epoch 37: val_loss did not improve from 0.12422\n",
      "906/906 [==============================] - 3s 4ms/step - loss: 0.2502 - accuracy: 0.9102 - val_loss: 0.1563 - val_accuracy: 0.9655\n",
      "Epoch 38/100\n",
      "897/906 [============================>.] - ETA: 0s - loss: 0.2529 - accuracy: 0.9083\n",
      "Epoch 38: val_loss did not improve from 0.12422\n",
      "906/906 [==============================] - 3s 4ms/step - loss: 0.2525 - accuracy: 0.9084 - val_loss: 0.1964 - val_accuracy: 0.8966\n",
      "Epoch 39/100\n",
      "904/906 [============================>.] - ETA: 0s - loss: 0.2428 - accuracy: 0.9133\n",
      "Epoch 39: val_loss did not improve from 0.12422\n",
      "906/906 [==============================] - 4s 4ms/step - loss: 0.2426 - accuracy: 0.9134 - val_loss: 0.1630 - val_accuracy: 0.9310\n",
      "Epoch 40/100\n",
      "901/906 [============================>.] - ETA: 0s - loss: 0.2458 - accuracy: 0.9136\n",
      "Epoch 40: val_loss did not improve from 0.12422\n",
      "906/906 [==============================] - 4s 5ms/step - loss: 0.2464 - accuracy: 0.9135 - val_loss: 0.1573 - val_accuracy: 0.9310\n",
      "Epoch 41/100\n",
      "901/906 [============================>.] - ETA: 0s - loss: 0.2489 - accuracy: 0.9067\n",
      "Epoch 41: val_loss did not improve from 0.12422\n",
      "906/906 [==============================] - 3s 4ms/step - loss: 0.2492 - accuracy: 0.9066 - val_loss: 0.2172 - val_accuracy: 0.8966\n",
      "Epoch 42/100\n",
      "897/906 [============================>.] - ETA: 0s - loss: 0.2513 - accuracy: 0.9108\n",
      "Epoch 42: val_loss improved from 0.12422 to 0.12370, saving model to C:/Users/admin/Desktop/saved_models\\audio_classification_part2.hdf5\n",
      "906/906 [==============================] - 3s 3ms/step - loss: 0.2516 - accuracy: 0.9108 - val_loss: 0.1237 - val_accuracy: 0.9655\n",
      "Epoch 43/100\n",
      "901/906 [============================>.] - ETA: 0s - loss: 0.2569 - accuracy: 0.9009\n",
      "Epoch 43: val_loss did not improve from 0.12370\n",
      "906/906 [==============================] - 3s 3ms/step - loss: 0.2578 - accuracy: 0.9007 - val_loss: 0.1895 - val_accuracy: 0.9310\n",
      "Epoch 44/100\n",
      "895/906 [============================>.] - ETA: 0s - loss: 0.2422 - accuracy: 0.9119\n",
      "Epoch 44: val_loss did not improve from 0.12370\n",
      "906/906 [==============================] - 3s 4ms/step - loss: 0.2421 - accuracy: 0.9119 - val_loss: 0.1289 - val_accuracy: 0.9655\n",
      "Epoch 45/100\n",
      "892/906 [============================>.] - ETA: 0s - loss: 0.2457 - accuracy: 0.9132\n",
      "Epoch 45: val_loss did not improve from 0.12370\n",
      "906/906 [==============================] - 4s 4ms/step - loss: 0.2458 - accuracy: 0.9130 - val_loss: 0.1567 - val_accuracy: 0.9310\n",
      "Epoch 46/100\n",
      "904/906 [============================>.] - ETA: 0s - loss: 0.2386 - accuracy: 0.9130\n",
      "Epoch 46: val_loss did not improve from 0.12370\n",
      "906/906 [==============================] - 3s 3ms/step - loss: 0.2392 - accuracy: 0.9128 - val_loss: 0.1410 - val_accuracy: 0.9655\n",
      "Epoch 47/100\n",
      "897/906 [============================>.] - ETA: 0s - loss: 0.2449 - accuracy: 0.9123\n",
      "Epoch 47: val_loss did not improve from 0.12370\n",
      "906/906 [==============================] - 3s 4ms/step - loss: 0.2445 - accuracy: 0.9123 - val_loss: 0.1404 - val_accuracy: 0.9655\n",
      "Epoch 48/100\n",
      "894/906 [============================>.] - ETA: 0s - loss: 0.2359 - accuracy: 0.9153\n",
      "Epoch 48: val_loss did not improve from 0.12370\n",
      "906/906 [==============================] - 3s 3ms/step - loss: 0.2361 - accuracy: 0.9153 - val_loss: 0.1557 - val_accuracy: 0.9310\n",
      "Epoch 49/100\n",
      "897/906 [============================>.] - ETA: 0s - loss: 0.2449 - accuracy: 0.9150\n",
      "Epoch 49: val_loss did not improve from 0.12370\n",
      "906/906 [==============================] - 3s 4ms/step - loss: 0.2446 - accuracy: 0.9149 - val_loss: 0.1860 - val_accuracy: 0.8966\n",
      "Epoch 50/100\n",
      "894/906 [============================>.] - ETA: 0s - loss: 0.2515 - accuracy: 0.9071\n",
      "Epoch 50: val_loss did not improve from 0.12370\n",
      "906/906 [==============================] - 4s 4ms/step - loss: 0.2518 - accuracy: 0.9068 - val_loss: 0.1765 - val_accuracy: 0.8966\n",
      "Epoch 51/100\n",
      "899/906 [============================>.] - ETA: 0s - loss: 0.2490 - accuracy: 0.9028\n",
      "Epoch 51: val_loss did not improve from 0.12370\n",
      "906/906 [==============================] - 3s 4ms/step - loss: 0.2498 - accuracy: 0.9028 - val_loss: 0.1327 - val_accuracy: 0.9310\n",
      "Epoch 52/100\n",
      "895/906 [============================>.] - ETA: 0s - loss: 0.2558 - accuracy: 0.9028\n",
      "Epoch 52: val_loss did not improve from 0.12370\n",
      "906/906 [==============================] - 3s 3ms/step - loss: 0.2553 - accuracy: 0.9030 - val_loss: 0.1563 - val_accuracy: 0.9655\n",
      "Epoch 53/100\n",
      "903/906 [============================>.] - ETA: 0s - loss: 0.2383 - accuracy: 0.9114\n",
      "Epoch 53: val_loss did not improve from 0.12370\n",
      "906/906 [==============================] - 3s 3ms/step - loss: 0.2391 - accuracy: 0.9113 - val_loss: 0.1575 - val_accuracy: 0.9310\n",
      "Epoch 54/100\n",
      "898/906 [============================>.] - ETA: 0s - loss: 0.2429 - accuracy: 0.9114\n",
      "Epoch 54: val_loss did not improve from 0.12370\n",
      "906/906 [==============================] - 4s 4ms/step - loss: 0.2428 - accuracy: 0.9114 - val_loss: 0.1602 - val_accuracy: 0.9655\n",
      "Epoch 55/100\n",
      "897/906 [============================>.] - ETA: 0s - loss: 0.2474 - accuracy: 0.9108\n",
      "Epoch 55: val_loss did not improve from 0.12370\n",
      "906/906 [==============================] - 3s 4ms/step - loss: 0.2484 - accuracy: 0.9109 - val_loss: 0.1531 - val_accuracy: 0.9310\n",
      "Epoch 56/100\n",
      "900/906 [============================>.] - ETA: 0s - loss: 0.2386 - accuracy: 0.9122\n",
      "Epoch 56: val_loss did not improve from 0.12370\n"
     ]
    },
    {
     "name": "stdout",
     "output_type": "stream",
     "text": [
      "906/906 [==============================] - 3s 3ms/step - loss: 0.2389 - accuracy: 0.9121 - val_loss: 0.1958 - val_accuracy: 0.9310\n",
      "Epoch 57/100\n",
      "892/906 [============================>.] - ETA: 0s - loss: 0.2403 - accuracy: 0.9134\n",
      "Epoch 57: val_loss did not improve from 0.12370\n",
      "906/906 [==============================] - 3s 3ms/step - loss: 0.2410 - accuracy: 0.9132 - val_loss: 0.2017 - val_accuracy: 0.9310\n",
      "Epoch 58/100\n",
      "901/906 [============================>.] - ETA: 0s - loss: 0.2441 - accuracy: 0.9137\n",
      "Epoch 58: val_loss did not improve from 0.12370\n",
      "906/906 [==============================] - 3s 3ms/step - loss: 0.2438 - accuracy: 0.9138 - val_loss: 0.1340 - val_accuracy: 0.9655\n",
      "Epoch 59/100\n",
      "897/906 [============================>.] - ETA: 0s - loss: 0.2428 - accuracy: 0.9143\n",
      "Epoch 59: val_loss did not improve from 0.12370\n",
      "906/906 [==============================] - 3s 3ms/step - loss: 0.2436 - accuracy: 0.9139 - val_loss: 0.1587 - val_accuracy: 0.9310\n",
      "Epoch 60/100\n",
      "900/906 [============================>.] - ETA: 0s - loss: 0.2482 - accuracy: 0.9091\n",
      "Epoch 60: val_loss did not improve from 0.12370\n",
      "906/906 [==============================] - 4s 4ms/step - loss: 0.2484 - accuracy: 0.9089 - val_loss: 0.1530 - val_accuracy: 0.9310\n",
      "Epoch 61/100\n",
      "897/906 [============================>.] - ETA: 0s - loss: 0.2518 - accuracy: 0.9030\n",
      "Epoch 61: val_loss did not improve from 0.12370\n",
      "906/906 [==============================] - 3s 3ms/step - loss: 0.2516 - accuracy: 0.9031 - val_loss: 0.1581 - val_accuracy: 0.9310\n",
      "Epoch 62/100\n",
      "898/906 [============================>.] - ETA: 0s - loss: 0.2588 - accuracy: 0.8976\n",
      "Epoch 62: val_loss did not improve from 0.12370\n",
      "906/906 [==============================] - 3s 3ms/step - loss: 0.2583 - accuracy: 0.8975 - val_loss: 0.1385 - val_accuracy: 0.9655\n",
      "Epoch 63/100\n",
      "900/906 [============================>.] - ETA: 0s - loss: 0.2524 - accuracy: 0.9013\n",
      "Epoch 63: val_loss did not improve from 0.12370\n",
      "906/906 [==============================] - 3s 3ms/step - loss: 0.2527 - accuracy: 0.9013 - val_loss: 0.1617 - val_accuracy: 0.9310\n",
      "Epoch 64/100\n",
      "899/906 [============================>.] - ETA: 0s - loss: 0.2522 - accuracy: 0.9078\n",
      "Epoch 64: val_loss did not improve from 0.12370\n",
      "906/906 [==============================] - 3s 3ms/step - loss: 0.2523 - accuracy: 0.9077 - val_loss: 0.1446 - val_accuracy: 0.9310\n",
      "Epoch 65/100\n",
      "895/906 [============================>.] - ETA: 0s - loss: 0.2429 - accuracy: 0.9108\n",
      "Epoch 65: val_loss did not improve from 0.12370\n",
      "906/906 [==============================] - 3s 4ms/step - loss: 0.2428 - accuracy: 0.9110 - val_loss: 0.1917 - val_accuracy: 0.8966\n",
      "Epoch 66/100\n",
      "899/906 [============================>.] - ETA: 0s - loss: 0.2400 - accuracy: 0.9114\n",
      "Epoch 66: val_loss did not improve from 0.12370\n",
      "906/906 [==============================] - 3s 3ms/step - loss: 0.2392 - accuracy: 0.9116 - val_loss: 0.1289 - val_accuracy: 0.9310\n",
      "Epoch 67/100\n",
      "897/906 [============================>.] - ETA: 0s - loss: 0.2486 - accuracy: 0.9090\n",
      "Epoch 67: val_loss did not improve from 0.12370\n",
      "906/906 [==============================] - 3s 3ms/step - loss: 0.2490 - accuracy: 0.9088 - val_loss: 0.1534 - val_accuracy: 0.9655\n",
      "Epoch 68/100\n",
      "888/906 [============================>.] - ETA: 0s - loss: 0.2428 - accuracy: 0.9129\n",
      "Epoch 68: val_loss did not improve from 0.12370\n",
      "906/906 [==============================] - 3s 3ms/step - loss: 0.2427 - accuracy: 0.9132 - val_loss: 0.1669 - val_accuracy: 0.8966\n",
      "Epoch 69/100\n",
      "891/906 [============================>.] - ETA: 0s - loss: 0.2362 - accuracy: 0.9146\n",
      "Epoch 69: val_loss did not improve from 0.12370\n",
      "906/906 [==============================] - 3s 3ms/step - loss: 0.2357 - accuracy: 0.9148 - val_loss: 0.1436 - val_accuracy: 0.9655\n",
      "Epoch 70/100\n",
      "900/906 [============================>.] - ETA: 0s - loss: 0.2361 - accuracy: 0.9125\n",
      "Epoch 70: val_loss did not improve from 0.12370\n",
      "906/906 [==============================] - 3s 3ms/step - loss: 0.2364 - accuracy: 0.9125 - val_loss: 0.1731 - val_accuracy: 0.9310\n",
      "Epoch 71/100\n",
      "897/906 [============================>.] - ETA: 0s - loss: 0.2432 - accuracy: 0.9097\n",
      "Epoch 71: val_loss did not improve from 0.12370\n",
      "906/906 [==============================] - 3s 3ms/step - loss: 0.2438 - accuracy: 0.9096 - val_loss: 0.1715 - val_accuracy: 0.9310\n",
      "Epoch 72/100\n",
      "901/906 [============================>.] - ETA: 0s - loss: 0.2426 - accuracy: 0.9121\n",
      "Epoch 72: val_loss did not improve from 0.12370\n",
      "906/906 [==============================] - 3s 3ms/step - loss: 0.2425 - accuracy: 0.9121 - val_loss: 0.1491 - val_accuracy: 0.9310\n",
      "Epoch 73/100\n",
      "894/906 [============================>.] - ETA: 0s - loss: 0.2425 - accuracy: 0.9093\n",
      "Epoch 73: val_loss did not improve from 0.12370\n",
      "906/906 [==============================] - 3s 3ms/step - loss: 0.2424 - accuracy: 0.9094 - val_loss: 0.1514 - val_accuracy: 0.9655\n",
      "Epoch 74/100\n",
      "892/906 [============================>.] - ETA: 0s - loss: 0.2383 - accuracy: 0.9136\n",
      "Epoch 74: val_loss did not improve from 0.12370\n",
      "906/906 [==============================] - 3s 3ms/step - loss: 0.2384 - accuracy: 0.9136 - val_loss: 0.1464 - val_accuracy: 0.9310\n",
      "Epoch 75/100\n",
      "897/906 [============================>.] - ETA: 0s - loss: 0.2424 - accuracy: 0.9094\n",
      "Epoch 75: val_loss did not improve from 0.12370\n",
      "906/906 [==============================] - 3s 3ms/step - loss: 0.2425 - accuracy: 0.9094 - val_loss: 0.1358 - val_accuracy: 0.9655\n",
      "Epoch 76/100\n",
      "896/906 [============================>.] - ETA: 0s - loss: 0.2458 - accuracy: 0.9102\n",
      "Epoch 76: val_loss did not improve from 0.12370\n",
      "906/906 [==============================] - 3s 3ms/step - loss: 0.2456 - accuracy: 0.9104 - val_loss: 0.1997 - val_accuracy: 0.9310\n",
      "Epoch 77/100\n",
      "904/906 [============================>.] - ETA: 0s - loss: 0.2438 - accuracy: 0.9097\n",
      "Epoch 77: val_loss did not improve from 0.12370\n",
      "906/906 [==============================] - 3s 3ms/step - loss: 0.2440 - accuracy: 0.9096 - val_loss: 0.1718 - val_accuracy: 0.9310\n",
      "Epoch 78/100\n",
      "898/906 [============================>.] - ETA: 0s - loss: 0.2360 - accuracy: 0.9115\n",
      "Epoch 78: val_loss did not improve from 0.12370\n",
      "906/906 [==============================] - 3s 3ms/step - loss: 0.2355 - accuracy: 0.9117 - val_loss: 0.1324 - val_accuracy: 0.9655\n",
      "Epoch 79/100\n",
      "892/906 [============================>.] - ETA: 0s - loss: 0.2421 - accuracy: 0.9107\n",
      "Epoch 79: val_loss did not improve from 0.12370\n",
      "906/906 [==============================] - 3s 3ms/step - loss: 0.2419 - accuracy: 0.9111 - val_loss: 0.1850 - val_accuracy: 0.9310\n",
      "Epoch 80/100\n",
      "891/906 [============================>.] - ETA: 0s - loss: 0.2341 - accuracy: 0.9126\n",
      "Epoch 80: val_loss did not improve from 0.12370\n",
      "906/906 [==============================] - 3s 3ms/step - loss: 0.2338 - accuracy: 0.9127 - val_loss: 0.1536 - val_accuracy: 0.9310\n",
      "Epoch 81/100\n",
      "899/906 [============================>.] - ETA: 0s - loss: 0.2420 - accuracy: 0.9084\n",
      "Epoch 81: val_loss did not improve from 0.12370\n",
      "906/906 [==============================] - 3s 3ms/step - loss: 0.2416 - accuracy: 0.9085 - val_loss: 0.1593 - val_accuracy: 0.8966\n",
      "Epoch 82/100\n",
      "894/906 [============================>.] - ETA: 0s - loss: 0.2331 - accuracy: 0.9134\n",
      "Epoch 82: val_loss did not improve from 0.12370\n",
      "906/906 [==============================] - 3s 3ms/step - loss: 0.2325 - accuracy: 0.9137 - val_loss: 0.1788 - val_accuracy: 0.8966\n",
      "Epoch 83/100\n",
      "890/906 [============================>.] - ETA: 0s - loss: 0.2361 - accuracy: 0.9090\n",
      "Epoch 83: val_loss did not improve from 0.12370\n",
      "906/906 [==============================] - 3s 3ms/step - loss: 0.2360 - accuracy: 0.9089 - val_loss: 0.1391 - val_accuracy: 0.9310\n",
      "Epoch 84/100\n",
      "902/906 [============================>.] - ETA: 0s - loss: 0.2327 - accuracy: 0.9120\n",
      "Epoch 84: val_loss did not improve from 0.12370\n",
      "906/906 [==============================] - 3s 3ms/step - loss: 0.2327 - accuracy: 0.9121 - val_loss: 0.1583 - val_accuracy: 0.9310\n",
      "Epoch 85/100\n",
      "900/906 [============================>.] - ETA: 0s - loss: 0.2539 - accuracy: 0.9026\n",
      "Epoch 85: val_loss did not improve from 0.12370\n",
      "906/906 [==============================] - 3s 3ms/step - loss: 0.2542 - accuracy: 0.9024 - val_loss: 0.1400 - val_accuracy: 0.9310\n",
      "Epoch 86/100\n",
      "902/906 [============================>.] - ETA: 0s - loss: 0.2485 - accuracy: 0.9059\n",
      "Epoch 86: val_loss improved from 0.12370 to 0.12011, saving model to C:/Users/admin/Desktop/saved_models\\audio_classification_part2.hdf5\n",
      "906/906 [==============================] - 3s 3ms/step - loss: 0.2482 - accuracy: 0.9060 - val_loss: 0.1201 - val_accuracy: 0.9655\n",
      "Epoch 87/100\n",
      "895/906 [============================>.] - ETA: 0s - loss: 0.2389 - accuracy: 0.9130\n",
      "Epoch 87: val_loss did not improve from 0.12011\n",
      "906/906 [==============================] - 3s 3ms/step - loss: 0.2391 - accuracy: 0.9128 - val_loss: 0.1752 - val_accuracy: 0.9310\n",
      "Epoch 88/100\n",
      "900/906 [============================>.] - ETA: 0s - loss: 0.2353 - accuracy: 0.9114\n",
      "Epoch 88: val_loss did not improve from 0.12011\n",
      "906/906 [==============================] - 3s 3ms/step - loss: 0.2353 - accuracy: 0.9113 - val_loss: 0.1527 - val_accuracy: 0.9655\n",
      "Epoch 89/100\n",
      "895/906 [============================>.] - ETA: 0s - loss: 0.2338 - accuracy: 0.9122\n",
      "Epoch 89: val_loss did not improve from 0.12011\n",
      "906/906 [==============================] - 3s 3ms/step - loss: 0.2341 - accuracy: 0.9119 - val_loss: 0.1431 - val_accuracy: 0.9655\n",
      "Epoch 90/100\n",
      "888/906 [============================>.] - ETA: 0s - loss: 0.2384 - accuracy: 0.9114\n",
      "Epoch 90: val_loss did not improve from 0.12011\n",
      "906/906 [==============================] - 3s 3ms/step - loss: 0.2381 - accuracy: 0.9115 - val_loss: 0.1418 - val_accuracy: 0.9310\n",
      "Epoch 91/100\n",
      "900/906 [============================>.] - ETA: 0s - loss: 0.2419 - accuracy: 0.9152\n",
      "Epoch 91: val_loss did not improve from 0.12011\n",
      "906/906 [==============================] - 3s 3ms/step - loss: 0.2415 - accuracy: 0.9154 - val_loss: 0.1676 - val_accuracy: 0.9310\n",
      "Epoch 92/100\n",
      "893/906 [============================>.] - ETA: 0s - loss: 0.2485 - accuracy: 0.9045\n",
      "Epoch 92: val_loss did not improve from 0.12011\n",
      "906/906 [==============================] - 3s 4ms/step - loss: 0.2473 - accuracy: 0.9050 - val_loss: 0.1446 - val_accuracy: 0.9655\n",
      "Epoch 93/100\n",
      "894/906 [============================>.] - ETA: 0s - loss: 0.2267 - accuracy: 0.9141\n",
      "Epoch 93: val_loss did not improve from 0.12011\n",
      "906/906 [==============================] - 3s 4ms/step - loss: 0.2275 - accuracy: 0.9140 - val_loss: 0.1431 - val_accuracy: 0.8966\n",
      "Epoch 94/100\n",
      "894/906 [============================>.] - ETA: 0s - loss: 0.2364 - accuracy: 0.9121\n",
      "Epoch 94: val_loss did not improve from 0.12011\n",
      "906/906 [==============================] - 3s 4ms/step - loss: 0.2360 - accuracy: 0.9122 - val_loss: 0.1321 - val_accuracy: 0.9655\n",
      "Epoch 95/100\n",
      "902/906 [============================>.] - ETA: 0s - loss: 0.2279 - accuracy: 0.9128\n",
      "Epoch 95: val_loss did not improve from 0.12011\n",
      "906/906 [==============================] - 3s 3ms/step - loss: 0.2279 - accuracy: 0.9127 - val_loss: 0.1606 - val_accuracy: 0.9310\n",
      "Epoch 96/100\n",
      "891/906 [============================>.] - ETA: 0s - loss: 0.2350 - accuracy: 0.9135\n",
      "Epoch 96: val_loss did not improve from 0.12011\n",
      "906/906 [==============================] - 3s 4ms/step - loss: 0.2350 - accuracy: 0.9135 - val_loss: 0.1992 - val_accuracy: 0.9310\n",
      "Epoch 97/100\n",
      "890/906 [============================>.] - ETA: 0s - loss: 0.2367 - accuracy: 0.9119\n",
      "Epoch 97: val_loss did not improve from 0.12011\n",
      "906/906 [==============================] - 3s 4ms/step - loss: 0.2375 - accuracy: 0.9117 - val_loss: 0.1806 - val_accuracy: 0.8966\n",
      "Epoch 98/100\n",
      "892/906 [============================>.] - ETA: 0s - loss: 0.2348 - accuracy: 0.9102\n",
      "Epoch 98: val_loss did not improve from 0.12011\n",
      "906/906 [==============================] - 3s 3ms/step - loss: 0.2354 - accuracy: 0.9102 - val_loss: 0.1268 - val_accuracy: 0.9655\n",
      "Epoch 99/100\n",
      "903/906 [============================>.] - ETA: 0s - loss: 0.2372 - accuracy: 0.9156\n",
      "Epoch 99: val_loss did not improve from 0.12011\n",
      "906/906 [==============================] - 4s 4ms/step - loss: 0.2372 - accuracy: 0.9155 - val_loss: 0.1290 - val_accuracy: 0.9655\n",
      "Epoch 100/100\n",
      "891/906 [============================>.] - ETA: 0s - loss: 0.2327 - accuracy: 0.9169\n",
      "Epoch 100: val_loss did not improve from 0.12011\n",
      "906/906 [==============================] - 3s 4ms/step - loss: 0.2326 - accuracy: 0.9166 - val_loss: 0.1430 - val_accuracy: 0.9655\n",
      "Training completed in time:  0:05:10.233390\n"
     ]
    }
   ],
   "source": [
    "## Trianing my model\n",
    "from tensorflow.keras.callbacks import ModelCheckpoint\n",
    "from datetime import datetime \n",
    "\n",
    "num_epochs = 100\n",
    "num_batch_size = 32\n",
    "\n",
    "checkpointer = ModelCheckpoint(filepath='C:/Users/admin/Desktop/saved_models/audio_classification_part2.hdf5', \n",
    "                               verbose=1, save_best_only=True)\n",
    "start = datetime.now()\n",
    "\n",
    "model.fit(x_train, y_train, batch_size=num_batch_size, epochs=num_epochs, validation_data=(x_test, y_test), callbacks=[checkpointer], verbose=1)\n",
    "\n",
    "\n",
    "duration = datetime.now() - start\n",
    "print(\"Training completed in time: \", duration)"
   ]
  },
  {
   "cell_type": "code",
   "execution_count": 82,
   "id": "d9ffcb86",
   "metadata": {},
   "outputs": [],
   "source": [
    "from keras.models import load_model\n",
    "model = load_model('C:/Users/admin/Desktop/SP CUP 2022/saved_models/audio_classification_Part2.hdf5')#LODE MODEL"
   ]
  },
  {
   "cell_type": "code",
   "execution_count": 83,
   "id": "86507690",
   "metadata": {},
   "outputs": [],
   "source": [
    "import os\n",
    "audio_dataset_path=\"C:/Users/admin/Desktop/spcup_2022_training_part1/spcup_2022_eval_part2/spcup_2022_eval_part2\")\n",
    "metadata=pd.read_csv(\"C:/Users/admin/Desktop/spcup_2022_training_part1/spcup_2022_eval_part2/spcup_2022_eval_part2/labels_eval_part2.csv\")"
   ]
  },
  {
   "cell_type": "code",
   "execution_count": 84,
   "id": "276503a9",
   "metadata": {},
   "outputs": [
    {
     "name": "stderr",
     "output_type": "stream",
     "text": [
      "9000it [25:17,  5.93it/s]\n"
     ]
    }
   ],
   "source": [
    "predction_label=[]\n",
    "for index,row in tqdm(metadata.iterrows()):\n",
    "    file_name=os.path.join(os.path.abspath(audio_dataset_path),str(row[\"track\"]))\n",
    "    data=feature_extractor(file_name)\n",
    "    data=data.reshape(1,-1)\n",
    "    predict_x=model.predict(data) \n",
    "    classes_x=np.argmax(predict_x,axis=1)\n",
    "    predction_label.append([str(row[\"track\"]),int(classes_x)])"
   ]
  },
  {
   "cell_type": "code",
   "execution_count": 86,
   "id": "8e09e2a8",
   "metadata": {},
   "outputs": [],
   "source": [
    "predction_label=pd.DataFrame(predction_label,columns=['track','algorithm'])"
   ]
  },
  {
   "cell_type": "code",
   "execution_count": 95,
   "id": "46da986f",
   "metadata": {},
   "outputs": [],
   "source": [
    "from pathlib import Path  \n",
    "filepath = Path('C:/Users/admin/Desktop/part2_scores.csv')  \n",
    "filepath.parent.mkdir(parents=True, exist_ok=True)  \n",
    "predction_label.to_csv(filepath) "
   ]
  },
  {
   "cell_type": "code",
   "execution_count": 94,
   "id": "8bc35eea",
   "metadata": {},
   "outputs": [],
   "source": [
    "#TEXT FILE\n",
    "with open('C:/Users/admin/Desktop/answer.txt', 'w', encoding = 'utf-8') as f:\n",
    "    for rec_index, rec in predction_label.iterrows():\n",
    "        f.write(rec[\"track\"]+', '+str(rec['algorithm']) + '\\n')"
   ]
  }
 ],
 "metadata": {
  "kernelspec": {
   "display_name": "Python 3 (ipykernel)",
   "language": "python",
   "name": "python3"
  },
  "language_info": {
   "codemirror_mode": {
    "name": "ipython",
    "version": 3
   },
   "file_extension": ".py",
   "mimetype": "text/x-python",
   "name": "python",
   "nbconvert_exporter": "python",
   "pygments_lexer": "ipython3",
   "version": "3.9.7"
  }
 },
 "nbformat": 4,
 "nbformat_minor": 5
}
